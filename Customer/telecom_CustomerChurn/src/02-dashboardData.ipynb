{
 "cells": [
  {
   "cell_type": "code",
   "execution_count": 1,
   "metadata": {},
   "outputs": [],
   "source": [
    "import pandas as pd"
   ]
  },
  {
   "cell_type": "code",
   "execution_count": 25,
   "metadata": {},
   "outputs": [],
   "source": [
    "#Carregando datasets\n",
    "data = pd.concat([pd.read_csv('../input/projeto4_telecom_treino.csv'),\n",
    "                  pd.read_csv('../input/projeto4_telecom_teste.csv')],\n",
    "                axis=0, ignore_index=False)"
   ]
  },
  {
   "cell_type": "code",
   "execution_count": 31,
   "metadata": {},
   "outputs": [
    {
     "data": {
      "text/plain": [
       "state  churn\n",
       "AK     no        67\n",
       "       yes        5\n",
       "AL     no       111\n",
       "       yes       13\n",
       "AR     no        76\n",
       "       yes       16\n",
       "AZ     no        80\n",
       "       yes        9\n",
       "CA     no        38\n",
       "       yes       14\n",
       "CO     no        85\n",
       "       yes       11\n",
       "CT     no        83\n",
       "       yes       16\n",
       "DC     no        79\n",
       "       yes        9\n",
       "DE     no        79\n",
       "       yes       15\n",
       "FL     no        78\n",
       "       yes       12\n",
       "GA     no        73\n",
       "       yes       10\n",
       "HI     no        81\n",
       "       yes        5\n",
       "IA     no        61\n",
       "       yes        8\n",
       "ID     no       105\n",
       "       yes       14\n",
       "IL     no        81\n",
       "       yes        7\n",
       "               ... \n",
       "OK     no        74\n",
       "       yes       16\n",
       "OR     no        96\n",
       "       yes       18\n",
       "PA     no        69\n",
       "       yes        8\n",
       "RI     no        92\n",
       "       yes        7\n",
       "SC     no        75\n",
       "       yes       16\n",
       "SD     no        73\n",
       "       yes       12\n",
       "TN     no        75\n",
       "       yes       14\n",
       "TX     no        90\n",
       "       yes       26\n",
       "UT     no        96\n",
       "       yes       16\n",
       "VA     no       112\n",
       "       yes        6\n",
       "VT     no        91\n",
       "       yes       10\n",
       "WA     no        74\n",
       "       yes       24\n",
       "WI     no        98\n",
       "       yes        8\n",
       "WV     no       136\n",
       "       yes       22\n",
       "WY     no       104\n",
       "       yes       11\n",
       "Name: churn, Length: 102, dtype: int64"
      ]
     },
     "execution_count": 31,
     "metadata": {},
     "output_type": "execute_result"
    }
   ],
   "source": [
    "#Churn por estado\n",
    "data.groupby(['state','churn']).churn.count()"
   ]
  },
  {
   "cell_type": "code",
   "execution_count": 35,
   "metadata": {},
   "outputs": [
    {
     "data": {
      "text/plain": [
       "state  churn\n",
       "AK     no        97.716418\n",
       "       yes      120.400000\n",
       "AL     no        97.180180\n",
       "       yes       92.307692\n",
       "AR     no        95.789474\n",
       "       yes       95.437500\n",
       "AZ     no       104.325000\n",
       "       yes       99.333333\n",
       "CA     no        99.605263\n",
       "       yes      103.000000\n",
       "CO     no        95.705882\n",
       "       yes      118.727273\n",
       "CT     no        98.144578\n",
       "       yes       87.375000\n",
       "DC     no       103.417722\n",
       "       yes       87.555556\n",
       "DE     no        95.227848\n",
       "       yes      105.400000\n",
       "FL     no       111.743590\n",
       "       yes      115.666667\n",
       "GA     no       100.616438\n",
       "       yes       98.100000\n",
       "HI     no       102.555556\n",
       "       yes       89.200000\n",
       "IA     no        94.393443\n",
       "       yes       99.125000\n",
       "ID     no        98.390476\n",
       "       yes      101.928571\n",
       "IL     no        99.950617\n",
       "       yes       96.428571\n",
       "                   ...    \n",
       "OK     no       106.013514\n",
       "       yes       94.812500\n",
       "OR     no       100.229167\n",
       "       yes      106.777778\n",
       "PA     no       104.101449\n",
       "       yes       97.250000\n",
       "RI     no       100.402174\n",
       "       yes      113.714286\n",
       "SC     no        95.253333\n",
       "       yes      108.437500\n",
       "SD     no       105.273973\n",
       "       yes       96.000000\n",
       "TN     no        98.346667\n",
       "       yes      107.071429\n",
       "TX     no        96.733333\n",
       "       yes       99.461538\n",
       "UT     no        98.385417\n",
       "       yes      102.937500\n",
       "VA     no       105.214286\n",
       "       yes       84.166667\n",
       "VT     no       103.901099\n",
       "       yes      105.300000\n",
       "WA     no        98.743243\n",
       "       yes      106.375000\n",
       "WI     no        98.346939\n",
       "       yes      107.000000\n",
       "WV     no        95.573529\n",
       "       yes      108.545455\n",
       "WY     no        98.153846\n",
       "       yes      110.090909\n",
       "Name: account_length, Length: 102, dtype: float64"
      ]
     },
     "execution_count": 35,
     "metadata": {},
     "output_type": "execute_result"
    }
   ],
   "source": [
    "#Account length por estado e churn\n",
    "data.groupby(['state', 'churn'])['account_length'].mean()"
   ]
  },
  {
   "cell_type": "code",
   "execution_count": 36,
   "metadata": {},
   "outputs": [
    {
     "data": {
      "text/plain": [
       "state\n",
       "AK    4209.05\n",
       "AL    7491.72\n",
       "AR    5388.77\n",
       "AZ    5172.95\n",
       "CA    2996.61\n",
       "CO    5615.43\n",
       "CT    5826.45\n",
       "DC    5144.25\n",
       "DE    5723.59\n",
       "FL    5366.22\n",
       "GA    4918.72\n",
       "HI    5055.73\n",
       "IA    4053.52\n",
       "ID    7083.60\n",
       "IL    5066.25\n",
       "IN    5999.01\n",
       "KS    6168.06\n",
       "KY    5877.52\n",
       "LA    4738.15\n",
       "MA    6240.87\n",
       "MD    6224.41\n",
       "ME    6220.35\n",
       "MI    6072.17\n",
       "MN    7461.89\n",
       "MO    5410.63\n",
       "MS    5840.78\n",
       "MT    5870.99\n",
       "NC    5408.33\n",
       "ND    5295.69\n",
       "NE    5132.08\n",
       "NH    5630.99\n",
       "NJ    6879.65\n",
       "NM    5366.52\n",
       "NV    5408.20\n",
       "NY    6697.30\n",
       "OH    7020.20\n",
       "OK    5425.44\n",
       "OR    6780.15\n",
       "PA    4639.43\n",
       "RI    5872.67\n",
       "SC    5318.51\n",
       "SD    5121.29\n",
       "TN    5305.41\n",
       "TX    6985.07\n",
       "UT    6749.22\n",
       "VA    7028.69\n",
       "VT    6106.28\n",
       "WA    5854.01\n",
       "WI    6149.87\n",
       "WV    9192.18\n",
       "WY    6859.72\n",
       "Name: revenue, dtype: float64"
      ]
     },
     "execution_count": 36,
     "metadata": {},
     "output_type": "execute_result"
    }
   ],
   "source": [
    "#Revenue por estado\n",
    "data['revenue'] = data.total_day_charge + data.total_eve_charge + data.total_night_charge + data.total_intl_charge\n",
    "data.groupby('state').revenue.sum()"
   ]
  }
 ],
 "metadata": {
  "kernelspec": {
   "display_name": "Python 3",
   "language": "python",
   "name": "python3"
  },
  "language_info": {
   "codemirror_mode": {
    "name": "ipython",
    "version": 3
   },
   "file_extension": ".py",
   "mimetype": "text/x-python",
   "name": "python",
   "nbconvert_exporter": "python",
   "pygments_lexer": "ipython3",
   "version": "3.7.3"
  }
 },
 "nbformat": 4,
 "nbformat_minor": 2
}

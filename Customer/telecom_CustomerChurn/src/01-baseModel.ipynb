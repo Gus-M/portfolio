{
 "cells": [
  {
   "cell_type": "code",
   "execution_count": 1,
   "metadata": {},
   "outputs": [],
   "source": [
    "##Libs\n",
    "import pandas as pd\n",
    "\n",
    "#Transformers e Pipeline\n",
    "from sklearn.compose import ColumnTransformer\n",
    "from sklearn.pipeline import Pipeline\n",
    "from sklearn.base import BaseEstimator, TransformerMixin\n",
    "from sklearn.preprocessing import LabelBinarizer, StandardScaler\n",
    "\n",
    "#Train/test split\n",
    "from sklearn.model_selection import train_test_split \n",
    "\n",
    "#Modelo\n",
    "from sklearn.ensemble import RandomForestClassifier\n",
    "\n",
    "#Métricas\n",
    "from sklearn.metrics import accuracy_score, f1_score, confusion_matrix"
   ]
  },
  {
   "cell_type": "code",
   "execution_count": 2,
   "metadata": {},
   "outputs": [],
   "source": [
    "#Carregando datasets\n",
    "df_train = pd.read_csv('../input/projeto4_telecom_treino.csv', index_col=0)\n",
    "df_test = pd.read_csv('../input/projeto4_telecom_teste.csv', index_col=0)"
   ]
  },
  {
   "cell_type": "code",
   "execution_count": 3,
   "metadata": {},
   "outputs": [],
   "source": [
    "#Computar custo total e minuto total\n",
    "class ComputeTotal(BaseEstimator, TransformerMixin):\n",
    "    \n",
    "    def __init__(self):\n",
    "        pass\n",
    "        \n",
    "    def fit(self, X, y = None):\n",
    "        return self\n",
    "    \n",
    "    def transform(self, X, y = None):\n",
    "        return pd.DataFrame(data = X.total_day_charge +\n",
    "                            X.total_eve_charge +\n",
    "                            X.total_night_charge +\n",
    "                            X.total_intl_charge, columns = ['total_charge'])\n",
    "    \n",
    "    def fit_transform(self, X, y = None):\n",
    "        return self.fit(X, y).transform(X, y)\n",
    "    \n",
    "#Codificar campos Yes/No para 0 e 1\n",
    "class YesNoEncoder(BaseEstimator, TransformerMixin):\n",
    "    def __init__(self):\n",
    "        self.encoder = LabelBinarizer(neg_label=0, pos_label=1)\n",
    "    \n",
    "    def fit(self, X, y = None):\n",
    "        self.encoder.fit(X)\n",
    "        return self\n",
    "    \n",
    "    def transform(self, X, y = None):\n",
    "        return self.encoder.transform(X)\n",
    "    \n",
    "    def fit_transform(self, X, y = None):\n",
    "        return self.fit(X, y).transform(X, y)"
   ]
  },
  {
   "cell_type": "code",
   "execution_count": 4,
   "metadata": {},
   "outputs": [],
   "source": [
    "#Transformers\n",
    "prep_ct = ColumnTransformer(transformers=[('Sum charges', ComputeTotal(), ['total_day_charge', 'total_eve_charge', 'total_night_charge', 'total_intl_charge']),\n",
    "                                          ('Encode intl plan', YesNoEncoder(), ['international_plan']),\n",
    "                                          ('Encode vm plan', YesNoEncoder(), ['voice_mail_plan']),\n",
    "                                          ('Scale num', StandardScaler(), ['account_length']),\n",
    "                                          ('Service calls', 'passthrough', ['number_customer_service_calls'])],\n",
    "                           remainder='drop')\n",
    "\n",
    "#Binarize Y\n",
    "def binarize_churn(y):\n",
    "    return LabelBinarizer(neg_label = 0, pos_label = 1).fit_transform(y).ravel()\n",
    "\n",
    "#Scores\n",
    "def score_model(y_true, y_pred):\n",
    "    acc = accuracy_score(y_true, y_pred)\n",
    "    f1 = f1_score(y_true, y_pred)\n",
    "    cm = confusion_matrix(y_true, y_pred)\n",
    "    print('Accuracy: %.5f\\nF1 Score: %.5f' % (acc, f1))\n",
    "    print(cm)\n",
    "\n",
    "#Pipeline\n",
    "def fit_pipe_model(model, dataFrame):\n",
    "    pipe = Pipeline(steps=[['Prep_X', prep_ct],\n",
    "                           ['Model', model]])\n",
    "    \n",
    "    #Data split\n",
    "    X_train, X_valid, y_train, y_valid = train_test_split(dataFrame.drop('churn', axis = 1),\n",
    "                                                          binarize_churn(dataFrame.churn), train_size = 0.7)\n",
    "    \n",
    "    #Train\n",
    "    pipe.fit(X_train, y_train)\n",
    "    \n",
    "    #Validation\n",
    "    print('** Train validation scores **')\n",
    "    pipe_preds = pipe.predict(X_valid)\n",
    "    score_model(y_valid, pipe_preds)\n",
    "    \n",
    "    return(pipe)"
   ]
  },
  {
   "cell_type": "code",
   "execution_count": 6,
   "metadata": {},
   "outputs": [
    {
     "name": "stderr",
     "output_type": "stream",
     "text": [
      "/home/gustavo/anaconda3/lib/python3.7/site-packages/sklearn/model_selection/_split.py:2179: FutureWarning: From version 0.21, test_size will always complement train_size unless both are specified.\n",
      "  FutureWarning)\n",
      "/home/gustavo/anaconda3/lib/python3.7/site-packages/sklearn/preprocessing/data.py:645: DataConversionWarning: Data with input dtype int64 were all converted to float64 by StandardScaler.\n",
      "  return self.partial_fit(X, y)\n",
      "/home/gustavo/anaconda3/lib/python3.7/site-packages/sklearn/base.py:467: DataConversionWarning: Data with input dtype int64 were all converted to float64 by StandardScaler.\n",
      "  return self.fit(X, y, **fit_params).transform(X)\n"
     ]
    },
    {
     "name": "stdout",
     "output_type": "stream",
     "text": [
      "** Train validation scores **\n",
      "Accuracy: 0.94700\n",
      "F1 Score: 0.79377\n",
      "[[845   9]\n",
      " [ 44 102]]\n"
     ]
    },
    {
     "name": "stderr",
     "output_type": "stream",
     "text": [
      "/home/gustavo/anaconda3/lib/python3.7/site-packages/sklearn/pipeline.py:605: DataConversionWarning: Data with input dtype int64 were all converted to float64 by StandardScaler.\n",
      "  res = transformer.transform(X)\n"
     ]
    }
   ],
   "source": [
    "#Model\n",
    "rf_model = fit_pipe_model(RandomForestClassifier(n_estimators=100, random_state = 10), df_train)"
   ]
  },
  {
   "cell_type": "code",
   "execution_count": 7,
   "metadata": {},
   "outputs": [
    {
     "name": "stdout",
     "output_type": "stream",
     "text": [
      "Accuracy: 0.94961\n",
      "F1 Score: 0.78351\n",
      "[[1431   12]\n",
      " [  72  152]]\n"
     ]
    },
    {
     "name": "stderr",
     "output_type": "stream",
     "text": [
      "/home/gustavo/anaconda3/lib/python3.7/site-packages/sklearn/pipeline.py:605: DataConversionWarning: Data with input dtype int64 were all converted to float64 by StandardScaler.\n",
      "  res = transformer.transform(X)\n"
     ]
    }
   ],
   "source": [
    "#Test scores\n",
    "rf_preds = rf_model.predict(df_test)\n",
    "score_model(binarize_churn(df_test.churn), rf_preds)"
   ]
  }
 ],
 "metadata": {
  "kernelspec": {
   "display_name": "Python 3",
   "language": "python",
   "name": "python3"
  },
  "language_info": {
   "codemirror_mode": {
    "name": "ipython",
    "version": 3
   },
   "file_extension": ".py",
   "mimetype": "text/x-python",
   "name": "python",
   "nbconvert_exporter": "python",
   "pygments_lexer": "ipython3",
   "version": "3.7.3"
  }
 },
 "nbformat": 4,
 "nbformat_minor": 2
}

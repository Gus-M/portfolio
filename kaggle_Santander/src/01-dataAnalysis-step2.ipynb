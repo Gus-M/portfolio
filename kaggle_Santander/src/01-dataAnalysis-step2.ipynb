{
 "cells": [
  {
   "cell_type": "markdown",
   "metadata": {},
   "source": [
    "# Análise exploratória das variáveis numéricas"
   ]
  },
  {
   "cell_type": "code",
   "execution_count": 1,
   "metadata": {},
   "outputs": [],
   "source": [
    "#Libs\n",
    "import pandas as pd\n",
    "import numpy as np\n",
    "import seaborn as sns\n",
    "from matplotlib import pyplot as plt"
   ]
  },
  {
   "cell_type": "code",
   "execution_count": 2,
   "metadata": {},
   "outputs": [],
   "source": [
    "#Carregando datasets\n",
    "df_train = pd.read_csv('../input/train.csv')\n",
    "train_sample = pd.read_csv('../output/train_sample.csv')\n",
    "train_sample_y = train_sample.TARGET"
   ]
  },
  {
   "cell_type": "markdown",
   "metadata": {},
   "source": [
    "Ao final das observações realizadas no arquivo anterior, selecionamos as seguintes variáveis para análise:\n",
    "\n",
    "* Variáveis contínuas:\n",
    "    - saldo_var5\n",
    "    - saldo_var30\n",
    "    - saldo_var42\n",
    "    - saldo_medio_var5_hace2\n",
    "    - saldo_medio_var5_ult1\n",
    "    - saldo_medio_var5_ult3\n",
    "    - var38\n",
    "    \n",
    "    \n",
    "* Possíveis variáveis categóricas codificadas:\n",
    "    - num_var4\n",
    "    - num_var5_0\n",
    "    - num_var5\n",
    "    - num_var30_0\n",
    "    - num_var30\n",
    "    - num_var35\n",
    "    - num_var39_0\n",
    "    - num_var41_0\n",
    "    - num_var42_0\n",
    "    - num_var42\n",
    "    - var_36\n",
    "    - num_meses_var5_ult3\n",
    "    - num_meses_var39_vig_ult3\n",
    "    \n",
    "    \n",
    "* Variáveis não classificadas:\n",
    "    - var3\n",
    "    - var15\n",
    "    \n",
    "Neste arquivo faremos uma análise de cada variável, buscando identificar inconsistências e correlações."
   ]
  },
  {
   "cell_type": "code",
   "execution_count": 3,
   "metadata": {},
   "outputs": [],
   "source": [
    "continous_vars = ['saldo_var5','saldo_var30','saldo_var42','saldo_medio_var5_hace2','saldo_medio_var5_ult1','saldo_medio_var5_ult3','var38']\n",
    "num_cat_vars = ['num_var4','num_var5','num_var5_0','num_var30','num_var30_0','num_var35','num_var39_0','num_var41_0','num_var42_0','num_var42','var36','num_meses_var5_ult3','num_meses_var39_vig_ult3']\n",
    "unkown_vars = ['var3', 'var15']"
   ]
  },
  {
   "cell_type": "markdown",
   "metadata": {},
   "source": [
    "## Variáveis contínuas"
   ]
  },
  {
   "cell_type": "code",
   "execution_count": 4,
   "metadata": {},
   "outputs": [],
   "source": [
    "df_continous_vars = train_sample.loc[:,continous_vars]"
   ]
  },
  {
   "cell_type": "code",
   "execution_count": 5,
   "metadata": {},
   "outputs": [
    {
     "data": {
      "text/html": [
       "<div>\n",
       "<style scoped>\n",
       "    .dataframe tbody tr th:only-of-type {\n",
       "        vertical-align: middle;\n",
       "    }\n",
       "\n",
       "    .dataframe tbody tr th {\n",
       "        vertical-align: top;\n",
       "    }\n",
       "\n",
       "    .dataframe thead th {\n",
       "        text-align: right;\n",
       "    }\n",
       "</style>\n",
       "<table border=\"1\" class=\"dataframe\">\n",
       "  <thead>\n",
       "    <tr style=\"text-align: right;\">\n",
       "      <th></th>\n",
       "      <th>count</th>\n",
       "      <th>mean</th>\n",
       "      <th>std</th>\n",
       "      <th>min</th>\n",
       "      <th>25%</th>\n",
       "      <th>50%</th>\n",
       "      <th>75%</th>\n",
       "      <th>max</th>\n",
       "    </tr>\n",
       "  </thead>\n",
       "  <tbody>\n",
       "    <tr>\n",
       "      <th>saldo_var5</th>\n",
       "      <td>6016.0</td>\n",
       "      <td>644.244445</td>\n",
       "      <td>6024.525600</td>\n",
       "      <td>-2895.72</td>\n",
       "      <td>0.00</td>\n",
       "      <td>1.500</td>\n",
       "      <td>20.730000</td>\n",
       "      <td>179160.00</td>\n",
       "    </tr>\n",
       "    <tr>\n",
       "      <th>saldo_var30</th>\n",
       "      <td>6016.0</td>\n",
       "      <td>7042.781983</td>\n",
       "      <td>39073.849171</td>\n",
       "      <td>-2895.72</td>\n",
       "      <td>0.00</td>\n",
       "      <td>3.000</td>\n",
       "      <td>90.000000</td>\n",
       "      <td>668885.04</td>\n",
       "    </tr>\n",
       "    <tr>\n",
       "      <th>saldo_var42</th>\n",
       "      <td>6016.0</td>\n",
       "      <td>3640.893216</td>\n",
       "      <td>28163.052116</td>\n",
       "      <td>-2895.72</td>\n",
       "      <td>0.00</td>\n",
       "      <td>3.000</td>\n",
       "      <td>60.000000</td>\n",
       "      <td>668885.04</td>\n",
       "    </tr>\n",
       "    <tr>\n",
       "      <th>saldo_medio_var5_hace2</th>\n",
       "      <td>6016.0</td>\n",
       "      <td>871.048070</td>\n",
       "      <td>7248.239391</td>\n",
       "      <td>-47.13</td>\n",
       "      <td>0.00</td>\n",
       "      <td>3.000</td>\n",
       "      <td>39.832500</td>\n",
       "      <td>217818.78</td>\n",
       "    </tr>\n",
       "    <tr>\n",
       "      <th>saldo_medio_var5_ult1</th>\n",
       "      <td>6016.0</td>\n",
       "      <td>600.117417</td>\n",
       "      <td>4888.195432</td>\n",
       "      <td>-733.05</td>\n",
       "      <td>0.00</td>\n",
       "      <td>3.000</td>\n",
       "      <td>30.000000</td>\n",
       "      <td>150006.00</td>\n",
       "    </tr>\n",
       "    <tr>\n",
       "      <th>saldo_medio_var5_ult3</th>\n",
       "      <td>6016.0</td>\n",
       "      <td>597.796875</td>\n",
       "      <td>4732.276362</td>\n",
       "      <td>-173.64</td>\n",
       "      <td>0.00</td>\n",
       "      <td>2.070</td>\n",
       "      <td>42.660000</td>\n",
       "      <td>123000.00</td>\n",
       "    </tr>\n",
       "    <tr>\n",
       "      <th>var38</th>\n",
       "      <td>6016.0</td>\n",
       "      <td>110188.364899</td>\n",
       "      <td>176270.893475</td>\n",
       "      <td>11136.63</td>\n",
       "      <td>61953.18</td>\n",
       "      <td>95826.735</td>\n",
       "      <td>117310.979016</td>\n",
       "      <td>9792857.49</td>\n",
       "    </tr>\n",
       "  </tbody>\n",
       "</table>\n",
       "</div>"
      ],
      "text/plain": [
       "                         count           mean            std       min  \\\n",
       "saldo_var5              6016.0     644.244445    6024.525600  -2895.72   \n",
       "saldo_var30             6016.0    7042.781983   39073.849171  -2895.72   \n",
       "saldo_var42             6016.0    3640.893216   28163.052116  -2895.72   \n",
       "saldo_medio_var5_hace2  6016.0     871.048070    7248.239391    -47.13   \n",
       "saldo_medio_var5_ult1   6016.0     600.117417    4888.195432   -733.05   \n",
       "saldo_medio_var5_ult3   6016.0     597.796875    4732.276362   -173.64   \n",
       "var38                   6016.0  110188.364899  176270.893475  11136.63   \n",
       "\n",
       "                             25%        50%            75%         max  \n",
       "saldo_var5                  0.00      1.500      20.730000   179160.00  \n",
       "saldo_var30                 0.00      3.000      90.000000   668885.04  \n",
       "saldo_var42                 0.00      3.000      60.000000   668885.04  \n",
       "saldo_medio_var5_hace2      0.00      3.000      39.832500   217818.78  \n",
       "saldo_medio_var5_ult1       0.00      3.000      30.000000   150006.00  \n",
       "saldo_medio_var5_ult3       0.00      2.070      42.660000   123000.00  \n",
       "var38                   61953.18  95826.735  117310.979016  9792857.49  "
      ]
     },
     "execution_count": 5,
     "metadata": {},
     "output_type": "execute_result"
    }
   ],
   "source": [
    "df_continous_vars.describe().T"
   ]
  },
  {
   "cell_type": "markdown",
   "metadata": {},
   "source": [
    "Essas variáveis aparentam estar relacionadas ao saldo bancário dos clientes observados sob diferentes perspectivas.\n",
    "\n",
    "A variável 'var38' não possui valores negativos e agrupa um range de valores elevados. Uma possível hipótese é que esta variável representa o maior saldo disponível do cliente.\n",
    "\n",
    "Adicionaremos a variável TARGET para buscar correlações entre essas variáveis e o grau de satisfação dos clientes:"
   ]
  },
  {
   "cell_type": "code",
   "execution_count": 33,
   "metadata": {},
   "outputs": [
    {
     "data": {
      "text/plain": [
       "<matplotlib.axes._subplots.AxesSubplot at 0x7fcca7105940>"
      ]
     },
     "execution_count": 33,
     "metadata": {},
     "output_type": "execute_result"
    },
    {
     "data": {
      "image/png": "[encoded data removed]",
      "text/plain": [
       "<Figure size 1080x648 with 2 Axes>"
      ]
     },
     "metadata": {
      "needs_background": "light"
     },
     "output_type": "display_data"
    }
   ],
   "source": [
    "# Colocamos a variável TARGET neste conjunto, calculamos a correlação\n",
    "continous_vars_corr = df_continous_vars.join(train_sample_y).corr()\n",
    "\n",
    "# E plotamos um heatmap para auxiliar a compreensão dos dados\n",
    "fig, axis = plt.subplots(figsize=(15,9))\n",
    "corr_cmap = sns.diverging_palette(220, 10, as_cmap=True)\n",
    "sns.heatmap(continous_vars_corr, cmap=corr_cmap,\n",
    "            linewidths=.5, linecolor='#c9c9c9', vmin=-1, vmax=1,\n",
    "            square=True, xticklabels=True, yticklabels=True)"
   ]
  },
  {
   "cell_type": "markdown",
   "metadata": {},
   "source": [
    "Nenhuma destas variáveis contínuas apresentou significância em determinar a satisfação do cliente."
   ]
  },
  {
   "cell_type": "markdown",
   "metadata": {},
   "source": [
    "## Variáveis categóricas"
   ]
  },
  {
   "cell_type": "code",
   "execution_count": 6,
   "metadata": {},
   "outputs": [],
   "source": [
    "df_cat_vars = train_sample.loc[:,num_cat_vars]"
   ]
  },
  {
   "cell_type": "code",
   "execution_count": 7,
   "metadata": {},
   "outputs": [
    {
     "data": {
      "text/html": [
       "<div>\n",
       "<style scoped>\n",
       "    .dataframe tbody tr th:only-of-type {\n",
       "        vertical-align: middle;\n",
       "    }\n",
       "\n",
       "    .dataframe tbody tr th {\n",
       "        vertical-align: top;\n",
       "    }\n",
       "\n",
       "    .dataframe thead th {\n",
       "        text-align: right;\n",
       "    }\n",
       "</style>\n",
       "<table border=\"1\" class=\"dataframe\">\n",
       "  <thead>\n",
       "    <tr style=\"text-align: right;\">\n",
       "      <th></th>\n",
       "      <th>count</th>\n",
       "      <th>mean</th>\n",
       "      <th>std</th>\n",
       "      <th>min</th>\n",
       "      <th>25%</th>\n",
       "      <th>50%</th>\n",
       "      <th>75%</th>\n",
       "      <th>max</th>\n",
       "    </tr>\n",
       "  </thead>\n",
       "  <tbody>\n",
       "    <tr>\n",
       "      <th>num_var4</th>\n",
       "      <td>6016.0</td>\n",
       "      <td>0.902261</td>\n",
       "      <td>0.981333</td>\n",
       "      <td>0.0</td>\n",
       "      <td>0.0</td>\n",
       "      <td>1.0</td>\n",
       "      <td>1.0</td>\n",
       "      <td>6.0</td>\n",
       "    </tr>\n",
       "    <tr>\n",
       "      <th>num_var5</th>\n",
       "      <td>6016.0</td>\n",
       "      <td>1.554355</td>\n",
       "      <td>1.514037</td>\n",
       "      <td>0.0</td>\n",
       "      <td>0.0</td>\n",
       "      <td>3.0</td>\n",
       "      <td>3.0</td>\n",
       "      <td>6.0</td>\n",
       "    </tr>\n",
       "    <tr>\n",
       "      <th>num_var5_0</th>\n",
       "      <td>6016.0</td>\n",
       "      <td>2.849402</td>\n",
       "      <td>0.752889</td>\n",
       "      <td>0.0</td>\n",
       "      <td>3.0</td>\n",
       "      <td>3.0</td>\n",
       "      <td>3.0</td>\n",
       "      <td>6.0</td>\n",
       "    </tr>\n",
       "    <tr>\n",
       "      <th>num_var30</th>\n",
       "      <td>6016.0</td>\n",
       "      <td>1.840093</td>\n",
       "      <td>1.702288</td>\n",
       "      <td>0.0</td>\n",
       "      <td>0.0</td>\n",
       "      <td>3.0</td>\n",
       "      <td>3.0</td>\n",
       "      <td>12.0</td>\n",
       "    </tr>\n",
       "    <tr>\n",
       "      <th>num_var30_0</th>\n",
       "      <td>6016.0</td>\n",
       "      <td>3.240858</td>\n",
       "      <td>1.729121</td>\n",
       "      <td>0.0</td>\n",
       "      <td>3.0</td>\n",
       "      <td>3.0</td>\n",
       "      <td>3.0</td>\n",
       "      <td>114.0</td>\n",
       "    </tr>\n",
       "    <tr>\n",
       "      <th>num_var35</th>\n",
       "      <td>6016.0</td>\n",
       "      <td>2.762633</td>\n",
       "      <td>3.075688</td>\n",
       "      <td>0.0</td>\n",
       "      <td>0.0</td>\n",
       "      <td>3.0</td>\n",
       "      <td>3.0</td>\n",
       "      <td>27.0</td>\n",
       "    </tr>\n",
       "    <tr>\n",
       "      <th>num_var39_0</th>\n",
       "      <td>6016.0</td>\n",
       "      <td>2.636968</td>\n",
       "      <td>1.220709</td>\n",
       "      <td>0.0</td>\n",
       "      <td>3.0</td>\n",
       "      <td>3.0</td>\n",
       "      <td>3.0</td>\n",
       "      <td>12.0</td>\n",
       "    </tr>\n",
       "    <tr>\n",
       "      <th>num_var41_0</th>\n",
       "      <td>6016.0</td>\n",
       "      <td>2.613531</td>\n",
       "      <td>1.182897</td>\n",
       "      <td>0.0</td>\n",
       "      <td>3.0</td>\n",
       "      <td>3.0</td>\n",
       "      <td>3.0</td>\n",
       "      <td>12.0</td>\n",
       "    </tr>\n",
       "    <tr>\n",
       "      <th>num_var42_0</th>\n",
       "      <td>6016.0</td>\n",
       "      <td>3.148105</td>\n",
       "      <td>1.585629</td>\n",
       "      <td>0.0</td>\n",
       "      <td>3.0</td>\n",
       "      <td>3.0</td>\n",
       "      <td>3.0</td>\n",
       "      <td>114.0</td>\n",
       "    </tr>\n",
       "    <tr>\n",
       "      <th>num_var42</th>\n",
       "      <td>6016.0</td>\n",
       "      <td>1.737866</td>\n",
       "      <td>1.581776</td>\n",
       "      <td>0.0</td>\n",
       "      <td>0.0</td>\n",
       "      <td>3.0</td>\n",
       "      <td>3.0</td>\n",
       "      <td>12.0</td>\n",
       "    </tr>\n",
       "    <tr>\n",
       "      <th>var36</th>\n",
       "      <td>6016.0</td>\n",
       "      <td>52.150765</td>\n",
       "      <td>48.441579</td>\n",
       "      <td>0.0</td>\n",
       "      <td>2.0</td>\n",
       "      <td>99.0</td>\n",
       "      <td>99.0</td>\n",
       "      <td>99.0</td>\n",
       "    </tr>\n",
       "    <tr>\n",
       "      <th>num_meses_var5_ult3</th>\n",
       "      <td>6016.0</td>\n",
       "      <td>1.529588</td>\n",
       "      <td>1.392817</td>\n",
       "      <td>0.0</td>\n",
       "      <td>0.0</td>\n",
       "      <td>2.0</td>\n",
       "      <td>3.0</td>\n",
       "      <td>3.0</td>\n",
       "    </tr>\n",
       "    <tr>\n",
       "      <th>num_meses_var39_vig_ult3</th>\n",
       "      <td>6016.0</td>\n",
       "      <td>1.568816</td>\n",
       "      <td>0.758385</td>\n",
       "      <td>0.0</td>\n",
       "      <td>1.0</td>\n",
       "      <td>2.0</td>\n",
       "      <td>2.0</td>\n",
       "      <td>3.0</td>\n",
       "    </tr>\n",
       "  </tbody>\n",
       "</table>\n",
       "</div>"
      ],
      "text/plain": [
       "                           count       mean        std  min  25%   50%   75%  \\\n",
       "num_var4                  6016.0   0.902261   0.981333  0.0  0.0   1.0   1.0   \n",
       "num_var5                  6016.0   1.554355   1.514037  0.0  0.0   3.0   3.0   \n",
       "num_var5_0                6016.0   2.849402   0.752889  0.0  3.0   3.0   3.0   \n",
       "num_var30                 6016.0   1.840093   1.702288  0.0  0.0   3.0   3.0   \n",
       "num_var30_0               6016.0   3.240858   1.729121  0.0  3.0   3.0   3.0   \n",
       "num_var35                 6016.0   2.762633   3.075688  0.0  0.0   3.0   3.0   \n",
       "num_var39_0               6016.0   2.636968   1.220709  0.0  3.0   3.0   3.0   \n",
       "num_var41_0               6016.0   2.613531   1.182897  0.0  3.0   3.0   3.0   \n",
       "num_var42_0               6016.0   3.148105   1.585629  0.0  3.0   3.0   3.0   \n",
       "num_var42                 6016.0   1.737866   1.581776  0.0  0.0   3.0   3.0   \n",
       "var36                     6016.0  52.150765  48.441579  0.0  2.0  99.0  99.0   \n",
       "num_meses_var5_ult3       6016.0   1.529588   1.392817  0.0  0.0   2.0   3.0   \n",
       "num_meses_var39_vig_ult3  6016.0   1.568816   0.758385  0.0  1.0   2.0   2.0   \n",
       "\n",
       "                            max  \n",
       "num_var4                    6.0  \n",
       "num_var5                    6.0  \n",
       "num_var5_0                  6.0  \n",
       "num_var30                  12.0  \n",
       "num_var30_0               114.0  \n",
       "num_var35                  27.0  \n",
       "num_var39_0                12.0  \n",
       "num_var41_0                12.0  \n",
       "num_var42_0               114.0  \n",
       "num_var42                  12.0  \n",
       "var36                      99.0  \n",
       "num_meses_var5_ult3         3.0  \n",
       "num_meses_var39_vig_ult3    3.0  "
      ]
     },
     "execution_count": 7,
     "metadata": {},
     "output_type": "execute_result"
    }
   ],
   "source": [
    "df_cat_vars.describe().T"
   ]
  },
  {
   "cell_type": "code",
   "execution_count": 8,
   "metadata": {},
   "outputs": [
    {
     "name": "stdout",
     "output_type": "stream",
     "text": [
      "num_var4\n",
      "0    2474\n",
      "1    2250\n",
      "2     826\n",
      "3     359\n",
      "4      88\n",
      "5      17\n",
      "6       2\n",
      "Name: num_var4, dtype: int64\n",
      "num_var5\n",
      "0    2914\n",
      "3    3087\n",
      "6      15\n",
      "Name: num_var5, dtype: int64\n",
      "num_var5_0\n",
      "0     348\n",
      "3    5622\n",
      "6      46\n",
      "Name: num_var5_0, dtype: int64\n",
      "num_var30\n",
      "0     2552\n",
      "3     3262\n",
      "6      183\n",
      "9       14\n",
      "12       5\n",
      "Name: num_var30, dtype: int64\n",
      "num_var30_0\n",
      "0        15\n",
      "3      5628\n",
      "6       290\n",
      "9        75\n",
      "12        7\n",
      "114       1\n",
      "Name: num_var30_0, dtype: int64\n",
      "num_var35\n",
      "0     2474\n",
      "3     2238\n",
      "6      792\n",
      "9      376\n",
      "12     103\n",
      "15      26\n",
      "18       3\n",
      "21       3\n",
      "27       1\n",
      "Name: num_var35, dtype: int64\n",
      "num_var39_0\n",
      "0      893\n",
      "3     4970\n",
      "6      142\n",
      "9       10\n",
      "12       1\n",
      "Name: num_var39_0, dtype: int64\n",
      "num_var41_0\n",
      "0      897\n",
      "3     5004\n",
      "6      109\n",
      "9        5\n",
      "12       1\n",
      "Name: num_var41_0, dtype: int64\n",
      "num_var42_0\n",
      "0        21\n",
      "3      5724\n",
      "6       260\n",
      "9         9\n",
      "12        1\n",
      "114       1\n",
      "Name: num_var42_0, dtype: int64\n",
      "num_var42\n",
      "0     2630\n",
      "3     3290\n",
      "6       94\n",
      "9        1\n",
      "12       1\n",
      "Name: num_var42, dtype: int64\n",
      "var36\n",
      "0       15\n",
      "1     1031\n",
      "2      570\n",
      "3     1292\n",
      "99    3108\n",
      "Name: var36, dtype: int64\n",
      "num_meses_var5_ult3\n",
      "0    2557\n",
      "1     244\n",
      "2     687\n",
      "3    2528\n",
      "Name: num_meses_var5_ult3, dtype: int64\n",
      "num_meses_var39_vig_ult3\n",
      "0     973\n",
      "1     667\n",
      "2    4357\n",
      "3      19\n",
      "Name: num_meses_var39_vig_ult3, dtype: int64\n"
     ]
    }
   ],
   "source": [
    "#Observando as ocorrências dessas variáveis\n",
    "for col in df_cat_vars.columns:\n",
    "    print(df_cat_vars[col].value_counts())"
   ]
  },
  {
   "cell_type": "markdown",
   "metadata": {},
   "source": [
    "* A variável *num_var42* possui um range de 0 a 99, podendo indicar que esta seja uma variável contínua cujo cálculo deve variar entre 0 e 100. Mais da metade dos registros foram classificados como 99;\n",
    "* As variáveis *num_meses_var5* e *num_meses_var39* possuem um range entre 0 e 3.\n",
    "* As demais variáveis foram atribuídas com valores múltiplos de 3, sugerindo periodicidade trimestral.\n",
    "\n",
    "Nos três casos observados, será necessário analisar a correlação com a variável TARGET, para determinar se os valores atribuídos possuem significado real."
   ]
  },
  {
   "cell_type": "code",
   "execution_count": 20,
   "metadata": {},
   "outputs": [
    {
     "data": {
      "text/plain": [
       "<matplotlib.axes._subplots.AxesSubplot at 0x7fcca7a43710>"
      ]
     },
     "execution_count": 20,
     "metadata": {},
     "output_type": "execute_result"
    },
    {
     "data": {
      "image/png": "[encoded data removed]",
      "text/plain": [
       "<Figure size 1080x648 with 2 Axes>"
      ]
     },
     "metadata": {
      "needs_background": "light"
     },
     "output_type": "display_data"
    }
   ],
   "source": [
    "# Colocamos a variável TARGET neste conjunto, calculamos a correlação\n",
    "cat_vars_corr = df_cat_vars.join(train_sample_y).corr()\n",
    "\n",
    "# E plotamos um heatmap para auxiliar a compreensão dos dados\n",
    "fig, axis = plt.subplots(figsize=(15,9))\n",
    "corr_cmap = sns.diverging_palette(220, 10, as_cmap=True)\n",
    "sns.heatmap(cat_vars_corr, cmap=corr_cmap,\n",
    "            linewidths=.5, linecolor='#c9c9c9', vmin=-1, vmax=1,\n",
    "            square=True, xticklabels=True, yticklabels=True)"
   ]
  },
  {
   "cell_type": "markdown",
   "metadata": {},
   "source": [
    "As variáveis 'num_var5', 'num_var30', 'num_var42' e 'num_meses_var5_ult3' possuem variação positiva entre sí e variação negativa na variável TARGET, sugerindo que são boas alternativas para classificarmos clientes satisfeitos.\n",
    "\n",
    "Destas opções, a variável 'var36' melhor representou a classificação de clientes insatisfeitos, sugerindo que quando maior o número observado, maior será a probabilidade classificar este cliente como insatisfeito.\n",
    "\n",
    "Contudo, percebemos durante a análise de valores distintos que esta variável possui um range de valores entre 0 e 99:"
   ]
  },
  {
   "cell_type": "code",
   "execution_count": 32,
   "metadata": {},
   "outputs": [
    {
     "data": {
      "text/plain": [
       "TARGET  var36\n",
       "0       99       1170\n",
       "        3         924\n",
       "        1         570\n",
       "        2         329\n",
       "        0          15\n",
       "1       99       1938\n",
       "        1         461\n",
       "        3         368\n",
       "        2         241\n",
       "Name: var36, dtype: int64"
      ]
     },
     "execution_count": 32,
     "metadata": {},
     "output_type": "execute_result"
    }
   ],
   "source": [
    "train_sample.groupby('TARGET')['var36'].value_counts()"
   ]
  },
  {
   "cell_type": "markdown",
   "metadata": {},
   "source": [
    "A ausência de outros valores sugere que os números 0, 1, 2, 3 e 99 referem-se a IDs. Contudo, quando observamos essa variável entre clientes insatisfeitos, pecebemos uma presença maior do valor 99."
   ]
  },
  {
   "cell_type": "markdown",
   "metadata": {},
   "source": [
    "## Variáveis desconhecidas"
   ]
  },
  {
   "cell_type": "code",
   "execution_count": 10,
   "metadata": {},
   "outputs": [],
   "source": [
    "df_unknown_vars = train_sample.loc[:,unkown_vars]"
   ]
  },
  {
   "cell_type": "code",
   "execution_count": 11,
   "metadata": {},
   "outputs": [
    {
     "data": {
      "text/html": [
       "<div>\n",
       "<style scoped>\n",
       "    .dataframe tbody tr th:only-of-type {\n",
       "        vertical-align: middle;\n",
       "    }\n",
       "\n",
       "    .dataframe tbody tr th {\n",
       "        vertical-align: top;\n",
       "    }\n",
       "\n",
       "    .dataframe thead th {\n",
       "        text-align: right;\n",
       "    }\n",
       "</style>\n",
       "<table border=\"1\" class=\"dataframe\">\n",
       "  <thead>\n",
       "    <tr style=\"text-align: right;\">\n",
       "      <th></th>\n",
       "      <th>count</th>\n",
       "      <th>mean</th>\n",
       "      <th>std</th>\n",
       "      <th>min</th>\n",
       "      <th>25%</th>\n",
       "      <th>50%</th>\n",
       "      <th>75%</th>\n",
       "      <th>max</th>\n",
       "    </tr>\n",
       "  </thead>\n",
       "  <tbody>\n",
       "    <tr>\n",
       "      <th>var3</th>\n",
       "      <td>6016.0</td>\n",
       "      <td>-1825.955286</td>\n",
       "      <td>42724.971207</td>\n",
       "      <td>-999999.0</td>\n",
       "      <td>2.0</td>\n",
       "      <td>2.0</td>\n",
       "      <td>2.0</td>\n",
       "      <td>225.0</td>\n",
       "    </tr>\n",
       "    <tr>\n",
       "      <th>var15</th>\n",
       "      <td>6016.0</td>\n",
       "      <td>36.186503</td>\n",
       "      <td>12.836971</td>\n",
       "      <td>9.0</td>\n",
       "      <td>25.0</td>\n",
       "      <td>33.0</td>\n",
       "      <td>44.0</td>\n",
       "      <td>102.0</td>\n",
       "    </tr>\n",
       "  </tbody>\n",
       "</table>\n",
       "</div>"
      ],
      "text/plain": [
       "        count         mean           std       min   25%   50%   75%    max\n",
       "var3   6016.0 -1825.955286  42724.971207 -999999.0   2.0   2.0   2.0  225.0\n",
       "var15  6016.0    36.186503     12.836971       9.0  25.0  33.0  44.0  102.0"
      ]
     },
     "execution_count": 11,
     "metadata": {},
     "output_type": "execute_result"
    }
   ],
   "source": [
    "df_unknown_vars.describe().T"
   ]
  },
  {
   "cell_type": "markdown",
   "metadata": {},
   "source": [
    "### Var3\n",
    "\n",
    "Percebemos que pelo menos 50% dos registros estão preenchidos com o número 2 entre os percentis 25 e 75. Podemos perceber um valor extremo -999999, desbalanceando a média e o desvio padrão dessa variável.\n",
    "\n",
    "Conforme observado no arquivo anterior, também sabemos que existem 41 resultados distintos nessa variável. Precisamos observar estes valores para verificar se essa é uma variável categórica ou contínua:"
   ]
  },
  {
   "cell_type": "code",
   "execution_count": 38,
   "metadata": {},
   "outputs": [
    {
     "data": {
      "text/plain": [
       " 2         5878\n",
       " 1           15\n",
       "-999999      11\n",
       " 8           10\n",
       " 12           9\n",
       " 0            7\n",
       " 4            7\n",
       " 9            6\n",
       " 10           6\n",
       " 14           6\n",
       " 7            6\n",
       " 6            6\n",
       " 3            5\n",
       " 5            5\n",
       " 11           5\n",
       " 13           4\n",
       " 15           3\n",
       " 129          2\n",
       " 116          2\n",
       " 49           2\n",
       " 152          1\n",
       " 53           1\n",
       " 60           1\n",
       " 52           1\n",
       " 28           1\n",
       " 147          1\n",
       " 69           1\n",
       " 121          1\n",
       " 169          1\n",
       " 201          1\n",
       " 111          1\n",
       " 30           1\n",
       " 86           1\n",
       " 114          1\n",
       " 142          1\n",
       " 19           1\n",
       " 23           1\n",
       " 47           1\n",
       " 63           1\n",
       " 87           1\n",
       " 225          1\n",
       "Name: var3, dtype: int64"
      ]
     },
     "execution_count": 38,
     "metadata": {},
     "output_type": "execute_result"
    }
   ],
   "source": [
    "df_unknown_vars.var3.value_counts()"
   ]
  },
  {
   "cell_type": "markdown",
   "metadata": {},
   "source": [
    "5878 dos 6016 registros (97.7%) foram preenchidos com o mesmo valor. A falta de variação neste registro sugere que não podemos determinar o grau de satisfação de um cliente utilizando esta variável"
   ]
  },
  {
   "cell_type": "markdown",
   "metadata": {},
   "source": [
    "### Var15\n",
    "\n",
    "Semelhante à 'var3', esta variável está preenchida com valores inteiros. Identificamos 71 registros diferentes no intervalo entre 9 e 102.\n",
    "\n",
    "A melhor forma de analisar esta variável será através de um histograma:"
   ]
  },
  {
   "cell_type": "code",
   "execution_count": 40,
   "metadata": {},
   "outputs": [
    {
     "data": {
      "text/plain": [
       "<matplotlib.axes._subplots.AxesSubplot at 0x7fcc85f3a2b0>"
      ]
     },
     "execution_count": 40,
     "metadata": {},
     "output_type": "execute_result"
    },
    {
     "data": {
      "image/png": "[encoded data removed]",
      "text/plain": [
       "<Figure size 432x288 with 1 Axes>"
      ]
     },
     "metadata": {
      "needs_background": "light"
     },
     "output_type": "display_data"
    }
   ],
   "source": [
    "df_unknown_vars.var15.hist(bins=20)"
   ]
  },
  {
   "cell_type": "markdown",
   "metadata": {},
   "source": [
    "A maior parte dos registros se concentram entre os valores 20 e 40, com cada vez menos clientes sendo classificados após este intervalo."
   ]
  },
  {
   "cell_type": "code",
   "execution_count": 43,
   "metadata": {},
   "outputs": [
    {
     "data": {
      "text/html": [
       "<div>\n",
       "<style scoped>\n",
       "    .dataframe tbody tr th:only-of-type {\n",
       "        vertical-align: middle;\n",
       "    }\n",
       "\n",
       "    .dataframe tbody tr th {\n",
       "        vertical-align: top;\n",
       "    }\n",
       "\n",
       "    .dataframe thead th {\n",
       "        text-align: right;\n",
       "    }\n",
       "</style>\n",
       "<table border=\"1\" class=\"dataframe\">\n",
       "  <thead>\n",
       "    <tr style=\"text-align: right;\">\n",
       "      <th></th>\n",
       "      <th>var15</th>\n",
       "      <th>TARGET</th>\n",
       "    </tr>\n",
       "  </thead>\n",
       "  <tbody>\n",
       "    <tr>\n",
       "      <th>var15</th>\n",
       "      <td>1.000000</td>\n",
       "      <td>0.272206</td>\n",
       "    </tr>\n",
       "    <tr>\n",
       "      <th>TARGET</th>\n",
       "      <td>0.272206</td>\n",
       "      <td>1.000000</td>\n",
       "    </tr>\n",
       "  </tbody>\n",
       "</table>\n",
       "</div>"
      ],
      "text/plain": [
       "           var15    TARGET\n",
       "var15   1.000000  0.272206\n",
       "TARGET  0.272206  1.000000"
      ]
     },
     "execution_count": 43,
     "metadata": {},
     "output_type": "execute_result"
    }
   ],
   "source": [
    "pd.concat([df_unknown_vars.var15, train_sample_y], axis=1).corr()"
   ]
  },
  {
   "cell_type": "code",
   "execution_count": 49,
   "metadata": {},
   "outputs": [],
   "source": [
    "var15_by_target = pd.concat([df_unknown_vars.var15, train_sample_y], axis=1)"
   ]
  },
  {
   "cell_type": "code",
   "execution_count": 58,
   "metadata": {},
   "outputs": [
    {
     "data": {
      "text/plain": [
       "<matplotlib.axes._subplots.AxesSubplot at 0x7fcc73f1b400>"
      ]
     },
     "execution_count": 58,
     "metadata": {},
     "output_type": "execute_result"
    },
    {
     "data": {
      "image/png": "[encoded data removed]",
      "text/plain": [
       "<Figure size 432x288 with 1 Axes>"
      ]
     },
     "metadata": {
      "needs_background": "light"
     },
     "output_type": "display_data"
    }
   ],
   "source": [
    "var15_by_target[var15_by_target.TARGET == 0].var15.hist()"
   ]
  },
  {
   "cell_type": "code",
   "execution_count": 57,
   "metadata": {},
   "outputs": [
    {
     "data": {
      "text/plain": [
       "<matplotlib.axes._subplots.AxesSubplot at 0x7fcc752f9b70>"
      ]
     },
     "execution_count": 57,
     "metadata": {},
     "output_type": "execute_result"
    },
    {
     "data": {
      "image/png": "[encoded data removed]",
      "text/plain": [
       "<Figure size 432x288 with 1 Axes>"
      ]
     },
     "metadata": {
      "needs_background": "light"
     },
     "output_type": "display_data"
    }
   ],
   "source": [
    "var15_by_target[var15_by_target.TARGET == 1].var15.hist()"
   ]
  },
  {
   "cell_type": "markdown",
   "metadata": {},
   "source": [
    "Identificamos uma correlação positiva entre 'var15' e o grau de satisfação do cliente, sugerindo a possibilida de identificar clientes insatisfeitos com essa variável.\n",
    "\n",
    "As variáveis selecionadas para compor a primeira versão do modelo preditivo foram:\n",
    "\n",
    "* num_var5\n",
    "* num_var30\n",
    "* num_var42\n",
    "* num_meses_var5_ult3\n",
    "* var36\n",
    "* var15\n",
    "\n",
    "Os valores contidos nessas variáveis serão padronizados antes de submetidos ao modelo preditivo"
   ]
  }
 ],
 "metadata": {
  "kernelspec": {
   "display_name": "Python 3",
   "language": "python",
   "name": "python3"
  },
  "language_info": {
   "codemirror_mode": {
    "name": "ipython",
    "version": 3
   },
   "file_extension": ".py",
   "mimetype": "text/x-python",
   "name": "python",
   "nbconvert_exporter": "python",
   "pygments_lexer": "ipython3",
   "version": "3.7.3"
  }
 },
 "nbformat": 4,
 "nbformat_minor": 2
}

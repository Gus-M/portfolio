{
 "cells": [
  {
   "cell_type": "markdown",
   "metadata": {},
   "source": [
    "# Modelo preditivo"
   ]
  },
  {
   "cell_type": "markdown",
   "metadata": {},
   "source": [
    "Com base nas análises realiadas nos arquivos anteriores, as variáveis que selecionamos para compor este modelo preditivo foram:\n",
    "\n",
    "* ind_var5;\n",
    "* ind_var8_0;\n",
    "* ind_var30;\n",
    "* num_var5;\n",
    "* num_var30;\n",
    "* num_var42;\n",
    "* num_meses_var5_ult3;\n",
    "* var36;\n",
    "* var15."
   ]
  },
  {
   "cell_type": "code",
   "execution_count": 1,
   "metadata": {},
   "outputs": [],
   "source": [
    "#libs\n",
    "import pandas as pd\n",
    "import numpy as np\n",
    "\n",
    "#Padronização\n",
    "from sklearn.preprocessing import StandardScaler\n",
    "\n",
    "#Automação do processo\n",
    "from sklearn.compose import ColumnTransformer\n",
    "from sklearn.pipeline import Pipeline\n",
    "\n",
    "#Train-test split\n",
    "from sklearn.model_selection import train_test_split\n",
    "\n",
    "#Modelos a testar\n",
    "from sklearn.ensemble import RandomForestClassifier\n",
    "from sklearn.svm import SVC\n",
    "from sklearn.linear_model import LogisticRegression\n",
    "\n",
    "#Otimização de hiperparâmetros\n",
    "from sklearn.model_selection import GridSearchCV\n",
    "\n",
    "#Métricas de avaliação\n",
    "from sklearn.metrics import accuracy_score, confusion_matrix, roc_auc_score"
   ]
  },
  {
   "cell_type": "code",
   "execution_count": 2,
   "metadata": {},
   "outputs": [],
   "source": [
    "#Carregando dados\n",
    "colnames = ['ind_var5','ind_var8_0','ind_var30','num_var5','num_var30','num_var42','num_meses_var5_ult3','var36','var15','TARGET']\n",
    "df_train = pd.read_csv('../input/train.csv', usecols=colnames)"
   ]
  },
  {
   "cell_type": "markdown",
   "metadata": {},
   "source": [
    "## Pré-processamento\n",
    "\n",
    "Para este modelo, será necessário apenas colocar as variáveis selecionadas em escalas semelhantes"
   ]
  },
  {
   "cell_type": "code",
   "execution_count": 3,
   "metadata": {},
   "outputs": [],
   "source": [
    "#Automatizamos o processo com Pipeline e ColumnTransformer\n",
    "col_prep = ColumnTransformer(transformers=[('Standardize', StandardScaler(), colnames[:-1])])\n",
    "\n",
    "def exec_pipe(model, X, y):\n",
    "    model_pipe = Pipeline(steps=[('Prep', col_prep),\n",
    "                                 ('Model', model)])\n",
    "    return model_pipe.fit(X, y)"
   ]
  },
  {
   "cell_type": "markdown",
   "metadata": {},
   "source": [
    "## Separando dados de treino e validação\n",
    "\n",
    "Para treinar o modelo preditivo, precisamos separar um dataset balanceado entre clientes satisfeitos e insatisfeitos.\n",
    "\n",
    "Após o treino, fazemos a validação dos dados apresentando valores não observados anteriormente."
   ]
  },
  {
   "cell_type": "code",
   "execution_count": 4,
   "metadata": {},
   "outputs": [],
   "source": [
    "#Separando o dataset balanceado para treino e validação\n",
    "unsatisfied_index = df_train[df_train.TARGET > 0].index\n",
    "satisfied_index = df_train[df_train.TARGET == 0].sample(len(unsatisfied_index), random_state = 5).index\n",
    "train_sample = pd.concat([df_train.iloc[satisfied_index],df_train.iloc[unsatisfied_index]], axis=0)\n",
    "\n",
    "X_train, X_valid, y_train, y_valid = train_test_split(train_sample.drop('TARGET', axis=1), train_sample.TARGET.ravel(),\n",
    "                                                      test_size=0.3, train_size=0.7, random_state=7)"
   ]
  },
  {
   "cell_type": "markdown",
   "metadata": {},
   "source": [
    "### Modelo 1 - Random Forest Classifier (RF)"
   ]
  },
  {
   "cell_type": "code",
   "execution_count": 5,
   "metadata": {},
   "outputs": [
    {
     "name": "stderr",
     "output_type": "stream",
     "text": [
      "/home/gustavo/anaconda3/lib/python3.7/site-packages/sklearn/preprocessing/data.py:645: DataConversionWarning: Data with input dtype int64 were all converted to float64 by StandardScaler.\n",
      "  return self.partial_fit(X, y)\n",
      "/home/gustavo/anaconda3/lib/python3.7/site-packages/sklearn/base.py:467: DataConversionWarning: Data with input dtype int64 were all converted to float64 by StandardScaler.\n",
      "  return self.fit(X, y, **fit_params).transform(X)\n"
     ]
    }
   ],
   "source": [
    "rf_baseline_model = RandomForestClassifier(n_estimators=100, random_state=11)\n",
    "\n",
    "rf_params = {'max_depth': [1,2,3,5],\n",
    "             'min_samples_leaf': [1,5,10,50]}\n",
    "\n",
    "rf_gridcv = GridSearchCV(rf_baseline_model, rf_params,\n",
    "                         scoring='accuracy', cv=5, n_jobs=3)\n",
    "\n",
    "rf_model = exec_pipe(rf_gridcv, X_train, y_train)"
   ]
  },
  {
   "cell_type": "code",
   "execution_count": 6,
   "metadata": {},
   "outputs": [
    {
     "name": "stdout",
     "output_type": "stream",
     "text": [
      "[[682 235]\n",
      " [255 633]]\n",
      "0.7285318559556787\n"
     ]
    },
    {
     "name": "stderr",
     "output_type": "stream",
     "text": [
      "/home/gustavo/anaconda3/lib/python3.7/site-packages/sklearn/pipeline.py:605: DataConversionWarning: Data with input dtype int64 were all converted to float64 by StandardScaler.\n",
      "  res = transformer.transform(X)\n"
     ]
    }
   ],
   "source": [
    "rf_preds = rf_model.predict(X_valid)\n",
    "print(confusion_matrix(y_valid, rf_preds))\n",
    "print(accuracy_score(y_valid, rf_preds))"
   ]
  },
  {
   "cell_type": "markdown",
   "metadata": {},
   "source": [
    "### Modelo 2 - Support Vector Classifier (SVC)"
   ]
  },
  {
   "cell_type": "code",
   "execution_count": 7,
   "metadata": {},
   "outputs": [
    {
     "name": "stderr",
     "output_type": "stream",
     "text": [
      "/home/gustavo/anaconda3/lib/python3.7/site-packages/sklearn/preprocessing/data.py:645: DataConversionWarning: Data with input dtype int64 were all converted to float64 by StandardScaler.\n",
      "  return self.partial_fit(X, y)\n",
      "/home/gustavo/anaconda3/lib/python3.7/site-packages/sklearn/base.py:467: DataConversionWarning: Data with input dtype int64 were all converted to float64 by StandardScaler.\n",
      "  return self.fit(X, y, **fit_params).transform(X)\n"
     ]
    }
   ],
   "source": [
    "svc_baseline_model = SVC(random_state=11)\n",
    "\n",
    "svc_params = {'C': [0.01, 0.1, 1, 10, 100]}\n",
    "\n",
    "svc_gridcv = GridSearchCV(svc_baseline_model, svc_params,\n",
    "                          scoring='accuracy', cv=5, n_jobs=3)\n",
    "\n",
    "svc_model = exec_pipe(svc_gridcv, X_train, y_train)"
   ]
  },
  {
   "cell_type": "code",
   "execution_count": 8,
   "metadata": {},
   "outputs": [
    {
     "name": "stdout",
     "output_type": "stream",
     "text": [
      "[[649 268]\n",
      " [233 655]]\n",
      "0.7224376731301939\n"
     ]
    },
    {
     "name": "stderr",
     "output_type": "stream",
     "text": [
      "/home/gustavo/anaconda3/lib/python3.7/site-packages/sklearn/pipeline.py:605: DataConversionWarning: Data with input dtype int64 were all converted to float64 by StandardScaler.\n",
      "  res = transformer.transform(X)\n"
     ]
    }
   ],
   "source": [
    "svc_preds = svc_model.predict(X_valid)\n",
    "print(confusion_matrix(y_valid, svc_preds))\n",
    "print(accuracy_score(y_valid, svc_preds))"
   ]
  },
  {
   "cell_type": "markdown",
   "metadata": {},
   "source": [
    "### Modelo 3 - Logistic Regression (LR)"
   ]
  },
  {
   "cell_type": "code",
   "execution_count": 9,
   "metadata": {},
   "outputs": [
    {
     "name": "stderr",
     "output_type": "stream",
     "text": [
      "/home/gustavo/anaconda3/lib/python3.7/site-packages/sklearn/preprocessing/data.py:645: DataConversionWarning: Data with input dtype int64 were all converted to float64 by StandardScaler.\n",
      "  return self.partial_fit(X, y)\n",
      "/home/gustavo/anaconda3/lib/python3.7/site-packages/sklearn/base.py:467: DataConversionWarning: Data with input dtype int64 were all converted to float64 by StandardScaler.\n",
      "  return self.fit(X, y, **fit_params).transform(X)\n",
      "/home/gustavo/anaconda3/lib/python3.7/site-packages/sklearn/linear_model/logistic.py:433: FutureWarning: Default solver will be changed to 'lbfgs' in 0.22. Specify a solver to silence this warning.\n",
      "  FutureWarning)\n"
     ]
    }
   ],
   "source": [
    "lr_baseline_model = LogisticRegression(multi_class='ovr', random_state=11)\n",
    "\n",
    "lr_params = {'C': [0.01, 0.1, 1, 10, 100]}\n",
    "\n",
    "lr_gridcv = GridSearchCV(lr_baseline_model, lr_params,\n",
    "                         scoring='accuracy', cv=5, n_jobs=3)\n",
    "\n",
    "lr_model = exec_pipe(lr_gridcv, X_train, y_train)"
   ]
  },
  {
   "cell_type": "code",
   "execution_count": 10,
   "metadata": {},
   "outputs": [
    {
     "name": "stderr",
     "output_type": "stream",
     "text": [
      "/home/gustavo/anaconda3/lib/python3.7/site-packages/sklearn/pipeline.py:605: DataConversionWarning: Data with input dtype int64 were all converted to float64 by StandardScaler.\n",
      "  res = transformer.transform(X)\n"
     ]
    },
    {
     "name": "stdout",
     "output_type": "stream",
     "text": [
      "[[580 337]\n",
      " [216 672]]\n",
      "0.6936288088642659\n"
     ]
    }
   ],
   "source": [
    "lr_preds = lr_model.predict(X_valid)\n",
    "print(confusion_matrix(y_valid, lr_preds))\n",
    "print(accuracy_score(y_valid, lr_preds))"
   ]
  },
  {
   "cell_type": "markdown",
   "metadata": {},
   "source": [
    "## Separando os dados para teste\n",
    "\n",
    "Após o treino e validação, selecionamos aleatoriamente um novo conjunto de dados para validar a performance dos modelos"
   ]
  },
  {
   "cell_type": "code",
   "execution_count": 11,
   "metadata": {},
   "outputs": [],
   "source": [
    "df_test = df_train.sample(n=30000, random_state=9)"
   ]
  },
  {
   "cell_type": "code",
   "execution_count": 12,
   "metadata": {},
   "outputs": [
    {
     "name": "stderr",
     "output_type": "stream",
     "text": [
      "/home/gustavo/anaconda3/lib/python3.7/site-packages/sklearn/pipeline.py:605: DataConversionWarning: Data with input dtype int64 were all converted to float64 by StandardScaler.\n",
      "  res = transformer.transform(X)\n"
     ]
    },
    {
     "name": "stdout",
     "output_type": "stream",
     "text": [
      "[[22241  6535]\n",
      " [  364   860]]\n",
      "0.7700333333333333\n"
     ]
    }
   ],
   "source": [
    "rf_test_preds = rf_model.predict(df_test)\n",
    "print(confusion_matrix(df_test.TARGET, rf_test_preds))\n",
    "print(accuracy_score(df_test.TARGET, rf_test_preds))"
   ]
  },
  {
   "cell_type": "code",
   "execution_count": 13,
   "metadata": {},
   "outputs": [
    {
     "name": "stderr",
     "output_type": "stream",
     "text": [
      "/home/gustavo/anaconda3/lib/python3.7/site-packages/sklearn/pipeline.py:605: DataConversionWarning: Data with input dtype int64 were all converted to float64 by StandardScaler.\n",
      "  res = transformer.transform(X)\n"
     ]
    },
    {
     "name": "stdout",
     "output_type": "stream",
     "text": [
      "[[21185  7591]\n",
      " [  330   894]]\n",
      "0.7359666666666667\n"
     ]
    }
   ],
   "source": [
    "svc_test_preds = svc_model.predict(df_test)\n",
    "print(confusion_matrix(df_test.TARGET, svc_test_preds))\n",
    "print(accuracy_score(df_test.TARGET, svc_test_preds))"
   ]
  },
  {
   "cell_type": "code",
   "execution_count": 14,
   "metadata": {},
   "outputs": [
    {
     "name": "stdout",
     "output_type": "stream",
     "text": [
      "[[18921  9855]\n",
      " [  313   911]]\n",
      "0.6610666666666667\n"
     ]
    },
    {
     "name": "stderr",
     "output_type": "stream",
     "text": [
      "/home/gustavo/anaconda3/lib/python3.7/site-packages/sklearn/pipeline.py:605: DataConversionWarning: Data with input dtype int64 were all converted to float64 by StandardScaler.\n",
      "  res = transformer.transform(X)\n"
     ]
    }
   ],
   "source": [
    "lr_test_preds = lr_model.predict(df_test)\n",
    "print(confusion_matrix(df_test.TARGET, lr_test_preds))\n",
    "print(accuracy_score(df_test.TARGET, lr_test_preds))"
   ]
  },
  {
   "cell_type": "markdown",
   "metadata": {},
   "source": [
    "Os modelos RF e SVC apresentaram uma performance melhor quando testados com novos dados, sugerindo que não sofreram *Overfitting* durante o treinamento. Contrário a estes dois, o modelo LR apresentou uma performance pior, sugerindo que os dados selecionados não são linearmente separáveis.\n",
    "\n",
    "Observando a matriz de confusão, percebemos que o maior problema dos três modelos está na quantidade de falsos positivos (clientes satisfeitos classificados como insatisfeitos).\n",
    "\n",
    "Dos três modelos concebidos, RF e SVC apresentaram a melhor performance. Selecionarei estes dois para realizar previsões nos dados de testes e submeter o resultados ao Kaggle para avaliar a performance na competição."
   ]
  },
  {
   "cell_type": "markdown",
   "metadata": {},
   "source": [
    "# Submetendo modelos ao Kaggle"
   ]
  },
  {
   "cell_type": "code",
   "execution_count": 15,
   "metadata": {},
   "outputs": [],
   "source": [
    "kaggle_submission_data = pd.read_csv('../input/test.csv', usecols=colnames[:-1])"
   ]
  },
  {
   "cell_type": "code",
   "execution_count": 16,
   "metadata": {},
   "outputs": [
    {
     "name": "stderr",
     "output_type": "stream",
     "text": [
      "/home/gustavo/anaconda3/lib/python3.7/site-packages/sklearn/pipeline.py:605: DataConversionWarning: Data with input dtype int64 were all converted to float64 by StandardScaler.\n",
      "  res = transformer.transform(X)\n",
      "/home/gustavo/anaconda3/lib/python3.7/site-packages/sklearn/pipeline.py:605: DataConversionWarning: Data with input dtype int64 were all converted to float64 by StandardScaler.\n",
      "  res = transformer.transform(X)\n"
     ]
    }
   ],
   "source": [
    "#Realizando previsões\n",
    "rf_kaggle_preds = rf_model.predict(kaggle_submission_data)\n",
    "svc_kaggle_preds = svc_model.predict(kaggle_submission_data)"
   ]
  },
  {
   "cell_type": "code",
   "execution_count": 17,
   "metadata": {},
   "outputs": [],
   "source": [
    "#Gravando resultados\n",
    "sample_submission = pd.read_csv('../input/sample_submission.csv')\n",
    "\n",
    "rf_sample_submission = sample_submission.copy()\n",
    "rf_sample_submission.TARGET = rf_kaggle_preds\n",
    "rf_sample_submission.to_csv('../output/rf_sample_submission.csv', index=False)\n",
    "\n",
    "svc_sample_submission = sample_submission.copy()\n",
    "svc_sample_submission.TARGET = svc_kaggle_preds\n",
    "svc_sample_submission.to_csv('../output/svc_sample_submission.csv', index=False)"
   ]
  },
  {
   "cell_type": "markdown",
   "metadata": {},
   "source": [
    "Scores: (Public/Private)\n",
    "\n",
    "* RF: 0.72286 / 0.70209\n",
    "* SVC: 0.72622 / 0.70815"
   ]
  }
 ],
 "metadata": {
  "kernelspec": {
   "display_name": "Python 3",
   "language": "python",
   "name": "python3"
  },
  "language_info": {
   "codemirror_mode": {
    "name": "ipython",
    "version": 3
   },
   "file_extension": ".py",
   "mimetype": "text/x-python",
   "name": "python",
   "nbconvert_exporter": "python",
   "pygments_lexer": "ipython3",
   "version": "3.7.3"
  }
 },
 "nbformat": 4,
 "nbformat_minor": 2
}

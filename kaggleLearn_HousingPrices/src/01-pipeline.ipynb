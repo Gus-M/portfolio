{
 "cells": [
  {
   "cell_type": "markdown",
   "metadata": {},
   "source": [
    "## Carga dos dados"
   ]
  },
  {
   "cell_type": "code",
   "execution_count": 2,
   "metadata": {},
   "outputs": [],
   "source": [
    "#libs\n",
    "import pandas as pd\n",
    "import numpy as np\n",
    "\n",
    "from os import listdir, chdir\n",
    "from sklearn.model_selection import train_test_split, RandomizedSearchCV\n",
    "from sklearn.compose import ColumnTransformer\n",
    "from sklearn.base import BaseEstimator, TransformerMixin\n",
    "from sklearn.pipeline import Pipeline, FeatureUnion\n",
    "from sklearn.impute import SimpleImputer\n",
    "from sklearn.preprocessing import OneHotEncoder, LabelEncoder\n",
    "from sklearn.metrics import mean_squared_error\n",
    "from xgboost import XGBRegressor\n",
    "\n",
    "np.random.seed(595)"
   ]
  },
  {
   "cell_type": "code",
   "execution_count": 3,
   "metadata": {},
   "outputs": [],
   "source": [
    "#Carga dos dados\n",
    "chdir('../input')\n",
    "files = listdir()\n",
    "\n",
    "df_train = pd.read_csv(files[0])\n",
    "df_test = pd.read_csv(files[1])\n",
    "assert(df_train['SalePrice'].isnull().sum() == 0)"
   ]
  },
  {
   "cell_type": "code",
   "execution_count": 4,
   "metadata": {},
   "outputs": [],
   "source": [
    "train = df_train.copy()"
   ]
  },
  {
   "cell_type": "markdown",
   "metadata": {},
   "source": [
    "## Pré-processamento"
   ]
  },
  {
   "cell_type": "code",
   "execution_count": 5,
   "metadata": {},
   "outputs": [
    {
     "data": {
      "text/plain": [
       "(1460, 81)"
      ]
     },
     "execution_count": 5,
     "metadata": {},
     "output_type": "execute_result"
    }
   ],
   "source": [
    "df_train.shape"
   ]
  },
  {
   "cell_type": "code",
   "execution_count": 6,
   "metadata": {},
   "outputs": [],
   "source": [
    "#Colunas por tipo\n",
    "cat_vars = train.select_dtypes(include='object').columns\n",
    "num_vars = train.select_dtypes(include=['int','float']).columns\n",
    "assert(len(cat_vars) + len(num_vars) == df_train.shape[1])"
   ]
  },
  {
   "cell_type": "code",
   "execution_count": 7,
   "metadata": {},
   "outputs": [
    {
     "data": {
      "text/plain": [
       "RoofMatl         8\n",
       "HouseStyle       8\n",
       "Condition2       8\n",
       "SaleType         9\n",
       "Condition1       9\n",
       "Exterior1st     15\n",
       "Exterior2nd     16\n",
       "Neighborhood    25\n",
       "dtype: int64"
      ]
     },
     "execution_count": 7,
     "metadata": {},
     "output_type": "execute_result"
    }
   ],
   "source": [
    "#Cardinalidade das variáveis categóricas\n",
    "card_cat_vars = train[cat_vars].nunique().sort_values()\n",
    "high_card_cat_vars = card_cat_vars[card_cat_vars.values > 7]\n",
    "high_card_cat_vars"
   ]
  },
  {
   "cell_type": "code",
   "execution_count": 8,
   "metadata": {},
   "outputs": [],
   "source": [
    "#Presença de valores NA\n",
    "na_cat_vars = train[cat_vars].isnull().sum()\n",
    "na_cat_vars = na_cat_vars[na_cat_vars > 0]\n",
    "\n",
    "na_num_vars = train[num_vars].isnull().sum()\n",
    "na_num_vars = na_num_vars[na_num_vars > 0]"
   ]
  },
  {
   "cell_type": "code",
   "execution_count": 9,
   "metadata": {},
   "outputs": [
    {
     "name": "stdout",
     "output_type": "stream",
     "text": [
      "Alley           1369\n",
      "MasVnrType         8\n",
      "BsmtQual          37\n",
      "BsmtCond          37\n",
      "BsmtExposure      38\n",
      "BsmtFinType1      37\n",
      "BsmtFinType2      38\n",
      "Electrical         1\n",
      "FireplaceQu      690\n",
      "GarageType        81\n",
      "GarageFinish      81\n",
      "GarageQual        81\n",
      "GarageCond        81\n",
      "PoolQC          1453\n",
      "Fence           1179\n",
      "MiscFeature     1406\n",
      "dtype: int64\n",
      "LotFrontage    259\n",
      "MasVnrArea       8\n",
      "GarageYrBlt     81\n",
      "dtype: int64\n"
     ]
    }
   ],
   "source": [
    "print(na_cat_vars)\n",
    "print(na_num_vars)"
   ]
  },
  {
   "cell_type": "markdown",
   "metadata": {},
   "source": [
    "### Etapas\n",
    "\n",
    "* Retirar variáveis categóricas com muitos valores NA\n",
    "* Retirar variáveis categóricas de alta cardinalidade\n",
    "* Retirar observações de variáveis categóricas que possuem poucas linhas NA\n",
    "* Substituir variáveis Garage:\n",
    "        + HasGarage: Binário, 0 quando GarageFinish = NA\n",
    "        + GarageFinish: Binário, 0  quando GarageFinish = NA OU 'Unf'\n",
    "* Imputar constante zero nos registros NA da variável *MasVnrArea*\n",
    "* Imputar mediana nos registros NA das variáveis *LotFrontage*\n",
    "* Imputar a moda nas variáveis categóricas que possuem poucas linhas NA"
   ]
  },
  {
   "cell_type": "code",
   "execution_count": 10,
   "metadata": {},
   "outputs": [],
   "source": [
    "#Retirar variáveis categóricas com muitos valores NA\n",
    "drop_cols_1_mostly_missing = train[na_cat_vars[na_cat_vars > 500].index].columns"
   ]
  },
  {
   "cell_type": "code",
   "execution_count": 11,
   "metadata": {},
   "outputs": [],
   "source": [
    "#Retirar variáveis categóricas de alta cardinalidade\n",
    "drop_cols_2_high_card = train[high_card_cat_vars.index].columns"
   ]
  },
  {
   "cell_type": "code",
   "execution_count": 12,
   "metadata": {},
   "outputs": [],
   "source": [
    "#Substituir as variáveis Garage\n",
    "replace_cols_1_garage = train.filter(like='Garage')"
   ]
  },
  {
   "cell_type": "code",
   "execution_count": 13,
   "metadata": {},
   "outputs": [],
   "source": [
    "#Imputar constante zero nos registros NA da variável 'MasVnrArea'\n",
    "impute_cols_1_constant_zero = train[['MasVnrArea']]"
   ]
  },
  {
   "cell_type": "code",
   "execution_count": 14,
   "metadata": {},
   "outputs": [],
   "source": [
    "#Variáveis a imputar median em caso de missing\n",
    "impute_cols_2_median = train[['LotFrontage']]"
   ]
  },
  {
   "cell_type": "code",
   "execution_count": 15,
   "metadata": {},
   "outputs": [],
   "source": [
    "#Aplicar Label Encoding nas demais variáveis categóricas\n",
    "encode_cols_1 = train[na_cat_vars[na_cat_vars < 500].index]"
   ]
  },
  {
   "cell_type": "markdown",
   "metadata": {},
   "source": [
    "## Transformers"
   ]
  },
  {
   "cell_type": "code",
   "execution_count": 16,
   "metadata": {},
   "outputs": [],
   "source": [
    "class GarageTransform(BaseEstimator, TransformerMixin):   \n",
    "    '''\n",
    "    Tarefas:\n",
    "    * Criar coluna HasGarage: 0 se GarageFinish == NA, 1 caso contrário\n",
    "    * Criar coluna GarageStatus: 0 se GarageFinish in [NA,'Unf'], 1 caso contrário\n",
    "    * Remover demais colunas\n",
    "    '''\n",
    "    \n",
    "    def fit(self, X, y=None):\n",
    "        return self\n",
    "    \n",
    "    def transform(self, dataFrame):\n",
    "        output = dataFrame.copy()\n",
    "        cols_to_drop = output.filter(like='Garage').columns\n",
    "        \n",
    "        #Criar coluna HasGarage\n",
    "        output['HasGarage'] = output['GarageType'].isna()\n",
    "        output['HasGarage'] *= 1\n",
    "        \n",
    "        #Criar coluna GarageStatus\n",
    "        output['GarageStatus'] = 1\n",
    "        index_garagefinish_isna = output[output['GarageFinish'].isna()].index\n",
    "        index_garagefinish_unf = output[output['GarageFinish'] == 'Unf'].index\n",
    "        output.loc[index_garagefinish_isna, 'GarageStatus'] = 0\n",
    "        output.loc[index_garagefinish_unf, 'GarageStatus'] = 0\n",
    "\n",
    "        #Remover demais colunas\n",
    "        return output.drop(columns=cols_to_drop)\n",
    "    \n",
    "    def fit_transform(self, X, y=None):\n",
    "        return self.fit(X, y).transform(X)"
   ]
  },
  {
   "cell_type": "code",
   "execution_count": 17,
   "metadata": {},
   "outputs": [],
   "source": [
    "class ConstantImputer(BaseEstimator, TransformerMixin):\n",
    "    '''\n",
    "    Tarefas:\n",
    "    * Imputar um valor constante\n",
    "    '''\n",
    "    def __init__(self, constant=0):\n",
    "        self.constant = constant\n",
    "    \n",
    "    def fit(self, X, y=None):\n",
    "        return self\n",
    "    \n",
    "    def transform(self, dataFrame):\n",
    "        output = dataFrame.copy()\n",
    "        \n",
    "        for col in dataFrame.columns:\n",
    "            output[col] = SimpleImputer(strategy='constant', fill_value=self.constant).fit_transform(output[[col]])\n",
    "            \n",
    "        return output\n",
    "    \n",
    "    def fit_transform(self, X, y=None):\n",
    "        return self.fit(X, y).transform(X)\n",
    "            "
   ]
  },
  {
   "cell_type": "code",
   "execution_count": 18,
   "metadata": {},
   "outputs": [],
   "source": [
    "class MedianImputer(BaseEstimator, TransformerMixin):\n",
    "    '''\n",
    "    Tarefas:\n",
    "    * Imputar a mediana das variáveis numéricas\n",
    "    '''\n",
    "    \n",
    "    def fit(self, X, y=None):\n",
    "        return self\n",
    "    \n",
    "    def transform(self, dataFrame):\n",
    "        output = dataFrame.copy()\n",
    "        \n",
    "        for col in dataFrame.columns:\n",
    "            output[col] = SimpleImputer(strategy='median').fit_transform(output[[col]])\n",
    "            \n",
    "        return output\n",
    "    \n",
    "    def fit_transform(self, X, y=None):\n",
    "        return self.fit(X, y).transform(X)\n",
    "            "
   ]
  },
  {
   "cell_type": "code",
   "execution_count": 19,
   "metadata": {},
   "outputs": [],
   "source": [
    "class MultiLabelEncoder(BaseEstimator, TransformerMixin):\n",
    "    '''\n",
    "    Tarefas:\n",
    "    * Codificar variáveis categóricas em numéricas\n",
    "    '''\n",
    "    \n",
    "    def fit(self, X, y=None):\n",
    "        return self\n",
    "    \n",
    "    def transform(self, dataFrame):\n",
    "        output = dataFrame.copy()\n",
    "        \n",
    "        for col in dataFrame.columns:\n",
    "            output[col] = LabelEncoder().fit_transform(output[[col]].astype(str))\n",
    "            \n",
    "        return output\n",
    "    \n",
    "    def fit_transform(self, X, y=None):\n",
    "        return self.fit(X, y).transform(X)\n",
    "            "
   ]
  },
  {
   "cell_type": "code",
   "execution_count": 21,
   "metadata": {},
   "outputs": [
    {
     "name": "stdout",
     "output_type": "stream",
     "text": [
      "(1021, 80) (439, 80) (1021,) (439,)\n"
     ]
    }
   ],
   "source": [
    "#Train/test Split\n",
    "X_train, X_test, y_train, y_test = train_test_split(df_train.drop('SalePrice', axis=1), df_train['SalePrice'], train_size=0.7)\n",
    "print(X_train.shape, X_test.shape, y_train.shape, y_test.shape)"
   ]
  },
  {
   "cell_type": "markdown",
   "metadata": {},
   "source": [
    "## Transformers, Pipeline e Model"
   ]
  },
  {
   "cell_type": "code",
   "execution_count": 22,
   "metadata": {},
   "outputs": [],
   "source": [
    "#Preprocess Transformer\n",
    "ct_prep = ColumnTransformer(transformers=[('Drop_missing_cols', 'drop', drop_cols_1_mostly_missing),\n",
    "                                          ('Drop_high_card_cols', 'drop', drop_cols_2_high_card),\n",
    "                                          ('Transmute_garage', GarageTransform(), replace_cols_1_garage.columns),\n",
    "                                          ('Mutate_constant', ConstantImputer(constant=0), impute_cols_1_constant_zero.columns),\n",
    "                                          ('Mutate_median', MedianImputer(), impute_cols_2_median.columns),\n",
    "                                          ('Encode_labels', MultiLabelEncoder(), encode_cols_1.columns)],\n",
    "                           remainder='drop')"
   ]
  },
  {
   "cell_type": "code",
   "execution_count": 28,
   "metadata": {},
   "outputs": [],
   "source": [
    "#Model\n",
    "xgb_model = XGBRegressor(objective='reg:squarederror',\n",
    "                         booster='gbtree',\n",
    "                         n_jobs=3,\n",
    "                         verbose=3)\n",
    "\n",
    "xgb_params = {'n_estimators': [200, 400, 600, 800, 1000],\n",
    "              'gamma': [0.1, 0.5, 1, 1.5, 2, 5],\n",
    "              'subsample': [0.6, 0.8, 1],\n",
    "              'max_depth': [3, 4, 5, 6, 7, 8],\n",
    "              'learning_rate': [0.01, 0.1, 1]}\n",
    "\n",
    "xgb_random_cv = RandomizedSearchCV(xgb_model,\n",
    "                                   param_distributions=xgb_params,\n",
    "                                   cv=5,\n",
    "                                   n_iter=100,\n",
    "                                   scoring='neg_mean_squared_error')"
   ]
  },
  {
   "cell_type": "code",
   "execution_count": 29,
   "metadata": {},
   "outputs": [
    {
     "name": "stderr",
     "output_type": "stream",
     "text": [
      "/home/gustavo/anaconda3/lib/python3.7/site-packages/sklearn/preprocessing/label.py:235: DataConversionWarning: A column-vector y was passed when a 1d array was expected. Please change the shape of y to (n_samples, ), for example using ravel().\n",
      "  y = column_or_1d(y, warn=True)\n"
     ]
    },
    {
     "data": {
      "text/plain": [
       "Pipeline(memory=None,\n",
       "     steps=[('Prep', ColumnTransformer(n_jobs=None, remainder='drop', sparse_threshold=0.3,\n",
       "         transformer_weights=None,\n",
       "         transformers=[('Drop_missing_cols', 'drop', Index(['Alley', 'FireplaceQu', 'PoolQC', 'Fence', 'MiscFeature'], dtype='object')), ('Drop_high_card_cols', 'drop', Index(['R...=True,\n",
       "          return_train_score='warn', scoring='neg_mean_squared_error',\n",
       "          verbose=0))])"
      ]
     },
     "execution_count": 29,
     "metadata": {},
     "output_type": "execute_result"
    }
   ],
   "source": [
    "pipe_model = Pipeline(steps=[('Prep', ct_prep),\n",
    "                             ('Model', xgb_random_cv)])\n",
    "pipe_model.fit(X_train, y_train.ravel())"
   ]
  },
  {
   "cell_type": "code",
   "execution_count": 32,
   "metadata": {},
   "outputs": [
    {
     "name": "stderr",
     "output_type": "stream",
     "text": [
      "/home/gustavo/anaconda3/lib/python3.7/site-packages/sklearn/preprocessing/label.py:235: DataConversionWarning: A column-vector y was passed when a 1d array was expected. Please change the shape of y to (n_samples, ), for example using ravel().\n",
      "  y = column_or_1d(y, warn=True)\n"
     ]
    },
    {
     "data": {
      "text/plain": [
       "51773.995320366506"
      ]
     },
     "execution_count": 32,
     "metadata": {},
     "output_type": "execute_result"
    }
   ],
   "source": [
    "preds = pipe_model.predict(X_test)\n",
    "score = np.sqrt(mean_squared_error(y_test, preds))\n",
    "score"
   ]
  },
  {
   "cell_type": "markdown",
   "metadata": {},
   "source": [
    "Adicionar novas features piorou bastante o resultado do modelo preditivo em relação aos resultados obtidos no Kaggle.\n",
    "\n",
    "Vou gerar um arquivo com as previsões e verificar o resultado na plataforma."
   ]
  },
  {
   "cell_type": "markdown",
   "metadata": {},
   "source": [
    "### Submission file"
   ]
  },
  {
   "cell_type": "code",
   "execution_count": 33,
   "metadata": {},
   "outputs": [
    {
     "name": "stderr",
     "output_type": "stream",
     "text": [
      "/home/gustavo/anaconda3/lib/python3.7/site-packages/sklearn/preprocessing/label.py:235: DataConversionWarning: A column-vector y was passed when a 1d array was expected. Please change the shape of y to (n_samples, ), for example using ravel().\n",
      "  y = column_or_1d(y, warn=True)\n"
     ]
    }
   ],
   "source": [
    "chdir('../output')\n",
    "submission_preds = pipe_model.predict(df_test)\n",
    "df_submit = pd.DataFrame({'Id': df_test.Id,\n",
    "                          'SalePrice': submission_preds})\n",
    "df_submit.to_csv('01-pipeline-model_2.csv', index=False)"
   ]
  },
  {
   "cell_type": "markdown",
   "metadata": {},
   "source": [
    "Score model_1: 33994"
   ]
  }
 ],
 "metadata": {
  "kernelspec": {
   "display_name": "Python 3",
   "language": "python",
   "name": "python3"
  },
  "language_info": {
   "codemirror_mode": {
    "name": "ipython",
    "version": 3
   },
   "file_extension": ".py",
   "mimetype": "text/x-python",
   "name": "python",
   "nbconvert_exporter": "python",
   "pygments_lexer": "ipython3",
   "version": "3.7.3"
  }
 },
 "nbformat": 4,
 "nbformat_minor": 2
}

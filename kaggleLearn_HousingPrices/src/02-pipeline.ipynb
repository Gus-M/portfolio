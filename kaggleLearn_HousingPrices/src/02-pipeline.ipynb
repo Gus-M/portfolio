{
 "cells": [
  {
   "cell_type": "markdown",
   "metadata": {},
   "source": [
    "## Carga dos dados"
   ]
  },
  {
   "cell_type": "code",
   "execution_count": 19,
   "metadata": {},
   "outputs": [],
   "source": [
    "#libs\n",
    "import pandas as pd\n",
    "import numpy as np\n",
    "\n",
    "from os import listdir, chdir\n",
    "from sklearn.model_selection import train_test_split, RandomizedSearchCV\n",
    "from sklearn.ensemble import RandomForestRegressor\n",
    "from sklearn.compose import ColumnTransformer\n",
    "from sklearn.base import BaseEstimator, TransformerMixin\n",
    "from sklearn.pipeline import Pipeline, FeatureUnion\n",
    "from sklearn.impute import SimpleImputer\n",
    "from sklearn.preprocessing import OneHotEncoder, LabelEncoder\n",
    "from sklearn.metrics import mean_absolute_error\n",
    "from xgboost import XGBRegressor\n",
    "\n",
    "np.random.seed(595)"
   ]
  },
  {
   "cell_type": "code",
   "execution_count": 20,
   "metadata": {},
   "outputs": [],
   "source": [
    "#Carga dos dados\n",
    "chdir('../input')\n",
    "files = listdir()\n",
    "\n",
    "df_train = pd.read_csv(files[0])\n",
    "df_test = pd.read_csv(files[1])\n",
    "assert(df_train['SalePrice'].isnull().sum() == 0)"
   ]
  },
  {
   "cell_type": "code",
   "execution_count": 21,
   "metadata": {},
   "outputs": [
    {
     "data": {
      "text/plain": [
       "(1460, 81)"
      ]
     },
     "execution_count": 21,
     "metadata": {},
     "output_type": "execute_result"
    }
   ],
   "source": [
    "df_train.shape"
   ]
  },
  {
   "cell_type": "markdown",
   "metadata": {},
   "source": [
    "## Pré-processamento"
   ]
  },
  {
   "cell_type": "code",
   "execution_count": 22,
   "metadata": {},
   "outputs": [],
   "source": [
    "train = df_train.copy()"
   ]
  },
  {
   "cell_type": "code",
   "execution_count": 23,
   "metadata": {},
   "outputs": [],
   "source": [
    "#Colunas por tipo\n",
    "cat_vars = train.select_dtypes(include='object').columns\n",
    "num_vars = train.select_dtypes(include=['int','float']).columns\n",
    "assert(len(cat_vars) + len(num_vars) == df_train.shape[1])"
   ]
  },
  {
   "cell_type": "code",
   "execution_count": 24,
   "metadata": {},
   "outputs": [],
   "source": [
    "#Presença de valores NA\n",
    "na_cat_vars = train[cat_vars].isnull().sum()\n",
    "na_cat_vars = na_cat_vars[na_cat_vars > 0]\n",
    "\n",
    "na_num_vars = train[num_vars].isnull().sum()\n",
    "na_num_vars = na_num_vars[na_num_vars > 0]"
   ]
  },
  {
   "cell_type": "code",
   "execution_count": 25,
   "metadata": {},
   "outputs": [
    {
     "name": "stdout",
     "output_type": "stream",
     "text": [
      "Alley           1369\n",
      "MasVnrType         8\n",
      "BsmtQual          37\n",
      "BsmtCond          37\n",
      "BsmtExposure      38\n",
      "BsmtFinType1      37\n",
      "BsmtFinType2      38\n",
      "Electrical         1\n",
      "FireplaceQu      690\n",
      "GarageType        81\n",
      "GarageFinish      81\n",
      "GarageQual        81\n",
      "GarageCond        81\n",
      "PoolQC          1453\n",
      "Fence           1179\n",
      "MiscFeature     1406\n",
      "dtype: int64\n",
      "LotFrontage    259\n",
      "MasVnrArea       8\n",
      "GarageYrBlt     81\n",
      "dtype: int64\n"
     ]
    }
   ],
   "source": [
    "print(na_cat_vars)\n",
    "print(na_num_vars)"
   ]
  },
  {
   "cell_type": "markdown",
   "metadata": {},
   "source": [
    "### Etapas\n",
    "\n",
    "* Substituir variáveis Garage:\n",
    "        + HasGarage: Binário, 0 quando GarageFinish = NA\n",
    "        + GarageFinish: Binário, 0  quando GarageFinish = NA OU 'Unf'\n",
    "* Imputar constante zero nos registros NA da variável *MasVnrArea*\n",
    "* Imputar mediana nos registros NA das variáveis *LotFrontage*"
   ]
  },
  {
   "cell_type": "code",
   "execution_count": 26,
   "metadata": {},
   "outputs": [],
   "source": [
    "#Substituir as variáveis Garage\n",
    "replace_cols_1_garage = train.filter(like='Garage')"
   ]
  },
  {
   "cell_type": "code",
   "execution_count": 27,
   "metadata": {},
   "outputs": [],
   "source": [
    "#Imputar constante zero nos registros NA da variável 'MasVnrArea'\n",
    "impute_cols_1_constant_zero = train[['MasVnrArea']]"
   ]
  },
  {
   "cell_type": "code",
   "execution_count": 28,
   "metadata": {},
   "outputs": [],
   "source": [
    "#Variáveis a imputar median em caso de missing\n",
    "impute_cols_2_median = train[['LotFrontage']]"
   ]
  },
  {
   "cell_type": "markdown",
   "metadata": {},
   "source": [
    "## Transformers"
   ]
  },
  {
   "cell_type": "code",
   "execution_count": 29,
   "metadata": {},
   "outputs": [],
   "source": [
    "class GarageTransform(BaseEstimator, TransformerMixin):   \n",
    "    '''\n",
    "    Tarefas:\n",
    "    * Criar coluna HasGarage: 0 se GarageFinish == NA, 1 caso contrário\n",
    "    * Criar coluna GarageStatus: 0 se GarageFinish in [NA,'Unf'], 1 caso contrário\n",
    "    * Remover demais colunas\n",
    "    '''\n",
    "    \n",
    "    def fit(self, X, y=None):\n",
    "        return self\n",
    "    \n",
    "    def transform(self, dataFrame):\n",
    "        output = dataFrame.copy()\n",
    "        cols_to_drop = output.filter(like='Garage').columns\n",
    "        \n",
    "        #Criar coluna HasGarage\n",
    "        output['HasGarage'] = output['GarageType'].isna()\n",
    "        output['HasGarage'] *= 1\n",
    "        \n",
    "        #Criar coluna GarageStatus\n",
    "        output['GarageStatus'] = 1\n",
    "        index_garagefinish_isna = output[output['GarageFinish'].isna()].index\n",
    "        index_garagefinish_unf = output[output['GarageFinish'] == 'Unf'].index\n",
    "        output.loc[index_garagefinish_isna, 'GarageStatus'] = 0\n",
    "        output.loc[index_garagefinish_unf, 'GarageStatus'] = 0\n",
    "\n",
    "        #Remover demais colunas\n",
    "        return output.drop(columns=cols_to_drop)\n",
    "    \n",
    "    def fit_transform(self, X, y=None):\n",
    "        return self.fit(X, y).transform(X)"
   ]
  },
  {
   "cell_type": "code",
   "execution_count": 32,
   "metadata": {},
   "outputs": [
    {
     "name": "stdout",
     "output_type": "stream",
     "text": [
      "(1021, 80) (439, 80) (1021,) (439,)\n"
     ]
    },
    {
     "name": "stderr",
     "output_type": "stream",
     "text": [
      "/home/gustavo/anaconda3/lib/python3.7/site-packages/sklearn/model_selection/_split.py:2179: FutureWarning: From version 0.21, test_size will always complement train_size unless both are specified.\n",
      "  FutureWarning)\n"
     ]
    }
   ],
   "source": [
    "#Train/test Split\n",
    "X_train, X_test, y_train, y_test = train_test_split(df_train.drop('SalePrice', axis=1), df_train['SalePrice'], train_size=0.7)\n",
    "print(X_train.shape, X_test.shape, y_train.shape, y_test.shape)"
   ]
  },
  {
   "cell_type": "markdown",
   "metadata": {},
   "source": [
    "## Transformers, Pipeline e Model"
   ]
  },
  {
   "cell_type": "code",
   "execution_count": 49,
   "metadata": {},
   "outputs": [],
   "source": [
    "#Preprocess Transformer\n",
    "ct_prep = ColumnTransformer(transformers=[('Transmute_garage', GarageTransform(), replace_cols_1_garage.columns),\n",
    "                                          ('Mutate_constant', SimpleImputer(strategy='constant', fill_value=0), impute_cols_1_constant_zero.columns),\n",
    "                                          ('Mutate_median', SimpleImputer(strategy='median'), impute_cols_2_median.columns)],\n",
    "                           remainder='drop')"
   ]
  },
  {
   "cell_type": "code",
   "execution_count": 50,
   "metadata": {},
   "outputs": [],
   "source": [
    "#Model\n",
    "rf_model = RandomForestRegressor(criterion='mae')\n",
    "\n",
    "rf_params = {'max_depth': [3,5,7,9,12],\n",
    "             'min_samples_split': [2,3,4,5,6,7],\n",
    "             'min_samples_leaf': [1,3,5,7,10]}\n",
    "\n",
    "rf_random_cv = RandomizedSearchCV(rf_model,\n",
    "                                   param_distributions=rf_params,\n",
    "                                   cv=5,\n",
    "                                   n_iter=100,\n",
    "                                   scoring='neg_mean_squared_error')"
   ]
  },
  {
   "cell_type": "code",
   "execution_count": 55,
   "metadata": {},
   "outputs": [
    {
     "name": "stderr",
     "output_type": "stream",
     "text": [
      "/home/gustavo/anaconda3/lib/python3.7/site-packages/sklearn/ensemble/forest.py:246: FutureWarning: The default value of n_estimators will change from 10 in version 0.20 to 100 in 0.22.\n",
      "  \"10 in version 0.20 to 100 in 0.22.\", FutureWarning)\n"
     ]
    },
    {
     "data": {
      "text/plain": [
       "Pipeline(memory=None,\n",
       "     steps=[('Prep', ColumnTransformer(n_jobs=None, remainder='drop', sparse_threshold=0.3,\n",
       "         transformer_weights=None,\n",
       "         transformers=[('Mutate_constant', SimpleImputer(copy=True, fill_value=0, missing_values=nan,\n",
       "       strategy='constant', verbose=0), Index(['MasVnrArea'], dtype='object'...ators=10, n_jobs=None,\n",
       "           oob_score=False, random_state=None, verbose=0, warm_start=False))])"
      ]
     },
     "execution_count": 55,
     "metadata": {},
     "output_type": "execute_result"
    }
   ],
   "source": [
    "pipe_model = Pipeline(steps=[('Prep', ct_prep),\n",
    "                             ('Model', rf_model)])\n",
    "pipe_model.fit(X_train, y_train)"
   ]
  },
  {
   "cell_type": "code",
   "execution_count": 52,
   "metadata": {},
   "outputs": [
    {
     "data": {
      "text/plain": [
       "44660.386560364466"
      ]
     },
     "execution_count": 52,
     "metadata": {},
     "output_type": "execute_result"
    }
   ],
   "source": [
    "preds = pipe_model.predict(X_test)\n",
    "score = mean_absolute_error(y_test, preds)\n",
    "score"
   ]
  },
  {
   "cell_type": "code",
   "execution_count": 57,
   "metadata": {},
   "outputs": [
    {
     "data": {
      "image/png": "[encoded data removed]",
      "text/plain": [
       "<Figure size 432x288 with 1 Axes>"
      ]
     },
     "metadata": {
      "needs_background": "light"
     },
     "output_type": "display_data"
    }
   ],
   "source": [
    "import matplotlib.pyplot as plt\n",
    "pd.DataFrame(preds).hist()\n",
    "plt.show()"
   ]
  },
  {
   "cell_type": "markdown",
   "metadata": {},
   "source": [
    "Adicionar novas features piorou bastante o resultado do modelo preditivo em relação aos resultados obtidos no Kaggle.\n",
    "\n",
    "Vou gerar um arquivo com as previsões e verificar o resultado na plataforma."
   ]
  },
  {
   "cell_type": "markdown",
   "metadata": {},
   "source": [
    "### Submission file"
   ]
  },
  {
   "cell_type": "code",
   "execution_count": 58,
   "metadata": {},
   "outputs": [],
   "source": [
    "chdir('../output')\n",
    "submission_preds = pipe_model.predict(df_test)\n",
    "df_submit = pd.DataFrame({'Id': df_test.Id,\n",
    "                          'SalePrice': submission_preds})\n",
    "df_submit.to_csv('02-pipeline-model_3.csv', index=False)"
   ]
  },
  {
   "cell_type": "markdown",
   "metadata": {},
   "source": [
    "Score model_1: 40219\n",
    "Score model_2: 46615\n",
    "Score model_3: 47754"
   ]
  }
 ],
 "metadata": {
  "kernelspec": {
   "display_name": "Python 3",
   "language": "python",
   "name": "python3"
  },
  "language_info": {
   "codemirror_mode": {
    "name": "ipython",
    "version": 3
   },
   "file_extension": ".py",
   "mimetype": "text/x-python",
   "name": "python",
   "nbconvert_exporter": "python",
   "pygments_lexer": "ipython3",
   "version": "3.7.3"
  }
 },
 "nbformat": 4,
 "nbformat_minor": 2
}
